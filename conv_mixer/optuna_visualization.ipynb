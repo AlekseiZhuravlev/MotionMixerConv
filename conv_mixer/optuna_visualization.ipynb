{
 "cells": [
  {
   "cell_type": "code",
   "execution_count": 17,
   "outputs": [
    {
     "name": "stderr",
     "output_type": "stream",
     "text": [
      "[I 2023-09-28 16:18:06,997] Using an existing study with name 'ais_twice_autoregressive_teacher999' instead of creating a new one.\n"
     ]
    }
   ],
   "source": [
    "import optuna\n",
    "\n",
    "# /home/azhuavlev/Desktop/Results/CUDA_lab/Final_project/studies/ais_twice_autoregressive_teacher999/results.db\n",
    "\n",
    "base_folder = f'/home/azhuavlev/Desktop/Results/CUDA_lab/Final_project/studies'\n",
    "study_name = 'ais_twice_autoregressive_teacher999'\n",
    "\n",
    "\n",
    "study = optuna.create_study(\n",
    "    study_name=study_name,\n",
    "    storage=f\"sqlite:///{base_folder}/{study_name}/results.db\",\n",
    "    directions=[\"minimize\"],\n",
    "    load_if_exists=True,\n",
    ")"
   ],
   "metadata": {
    "collapsed": false,
    "ExecuteTime": {
     "start_time": "2023-09-28T16:18:06.717344Z",
     "end_time": "2023-09-28T16:18:07.030950Z"
    }
   }
  },
  {
   "cell_type": "code",
   "execution_count": 18,
   "outputs": [
    {
     "data": {
      "text/plain": "   number      value             datetime_start          datetime_complete   \n0       0  49.990189 2023-09-21 11:15:06.729513 2023-09-21 11:59:30.991146  \\\n1       1  53.613926 2023-09-21 11:59:31.103981 2023-09-21 12:45:03.764811   \n2       2  49.769371 2023-09-21 12:45:03.913810 2023-09-21 13:29:05.851197   \n3       3  51.098377 2023-09-21 13:29:05.944623 2023-09-21 14:12:49.455934   \n4       4  51.116627 2023-09-21 14:12:49.552010 2023-09-21 15:19:56.829323   \n5       5  65.826248 2023-09-21 15:19:56.925985 2023-09-21 16:04:35.800191   \n6       6  48.655354 2023-09-21 16:04:35.931149 2023-09-21 16:57:37.286309   \n7       7  48.695423 2023-09-21 16:57:37.402987 2023-09-21 17:50:14.599434   \n8       8  50.536537 2023-09-21 17:50:14.700131 2023-09-21 18:37:51.841681   \n\n                duration  params_channels_conv_blocks  params_dimPosEmb   \n0 0 days 00:44:24.261633                            4               192  \\\n1 0 days 00:45:32.660830                            4               192   \n2 0 days 00:44:01.937387                            4               192   \n3 0 days 00:43:43.511311                            4               192   \n4 0 days 01:07:07.277313                            4               192   \n5 0 days 00:44:38.874206                            4               192   \n6 0 days 00:53:01.355160                            4               192   \n7 0 days 00:52:37.196447                            4               192   \n8 0 days 00:47:37.141550                            4               192   \n\n   params_kernel1_x_Time  params_kernel1_y_Pose  params_num_blocks  ...   \n0                      5                      5                  6  ...  \\\n1                      1                      9                  6  ...   \n2                      1                      5                  6  ...   \n3                      5                      1                  6  ...   \n4                      9                      9                  6  ...   \n5                      9                      1                  6  ...   \n6                      9                      5                  6  ...   \n7                      5                      9                  6  ...   \n8                      1                      1                  6  ...   \n\n   user_attrs_2022-05-26_2persons_002/auc_pck   \n0                                    0.854249  \\\n1                                    0.840266   \n2                                    0.851532   \n3                                    0.849100   \n4                                    0.847329   \n5                                    0.810912   \n6                                    0.849099   \n7                                    0.852626   \n8                                    0.851546   \n\n   user_attrs_2022-05-26_2persons_002/mpjpe   \n0                                 43.975235  \\\n1                                 49.125275   \n2                                 45.101307   \n3                                 45.959572   \n4                                 46.841648   \n5                                 59.477684   \n6                                 46.231541   \n7                                 44.936184   \n8                                 45.734753   \n\n   user_attrs_2022-05-26_2persons_003/auc_pck   \n0                                    0.892186  \\\n1                                    0.881859   \n2                                    0.892450   \n3                                    0.890869   \n4                                    0.899043   \n5                                    0.866551   \n6                                    0.898936   \n7                                    0.898799   \n8                                    0.892108   \n\n   user_attrs_2022-05-26_2persons_003/mpjpe  user_attrs_auc_pck   \n0                                 32.245373            0.837706  \\\n1                                 35.358421            0.825952   \n2                                 32.163151            0.838122   \n3                                 32.640514            0.834248   \n4                                 30.197041            0.834627   \n5                                 39.972408            0.790749   \n6                                 30.226828            0.841733   \n7                                 30.271168            0.841940   \n8                                 32.285053            0.837192   \n\n   user_attrs_mpjpe  user_attrs_test_loss_mpjpe  user_attrs_train_loss_mpjpe   \n0         49.990189                   49.990189                     0.011425  \\\n1         53.613926                   53.613926                     0.011987   \n2         49.769371                   49.769371                     0.011438   \n3         51.098377                   51.098377                     0.011433   \n4         51.116627                   51.116627                     0.010892   \n5         65.826248                   65.826248                     0.011656   \n6         48.655354                   48.655354                     0.010991   \n7         48.695423                   48.695423                     0.011022   \n8         50.536537                   50.536537                     0.012172   \n\n   user_attrs_val_loss_mpjpe     state  \n0                   0.049917  COMPLETE  \n1                   0.058062  COMPLETE  \n2                   0.052829  COMPLETE  \n3                   0.054570  COMPLETE  \n4                   0.054797  COMPLETE  \n5                   0.074524  COMPLETE  \n6                   0.053244  COMPLETE  \n7                   0.051205  COMPLETE  \n8                   0.051947  COMPLETE  \n\n[9 rows x 32 columns]",
      "text/html": "<div>\n<style scoped>\n    .dataframe tbody tr th:only-of-type {\n        vertical-align: middle;\n    }\n\n    .dataframe tbody tr th {\n        vertical-align: top;\n    }\n\n    .dataframe thead th {\n        text-align: right;\n    }\n</style>\n<table border=\"1\" class=\"dataframe\">\n  <thead>\n    <tr style=\"text-align: right;\">\n      <th></th>\n      <th>number</th>\n      <th>value</th>\n      <th>datetime_start</th>\n      <th>datetime_complete</th>\n      <th>duration</th>\n      <th>params_channels_conv_blocks</th>\n      <th>params_dimPosEmb</th>\n      <th>params_kernel1_x_Time</th>\n      <th>params_kernel1_y_Pose</th>\n      <th>params_num_blocks</th>\n      <th>...</th>\n      <th>user_attrs_2022-05-26_2persons_002/auc_pck</th>\n      <th>user_attrs_2022-05-26_2persons_002/mpjpe</th>\n      <th>user_attrs_2022-05-26_2persons_003/auc_pck</th>\n      <th>user_attrs_2022-05-26_2persons_003/mpjpe</th>\n      <th>user_attrs_auc_pck</th>\n      <th>user_attrs_mpjpe</th>\n      <th>user_attrs_test_loss_mpjpe</th>\n      <th>user_attrs_train_loss_mpjpe</th>\n      <th>user_attrs_val_loss_mpjpe</th>\n      <th>state</th>\n    </tr>\n  </thead>\n  <tbody>\n    <tr>\n      <th>0</th>\n      <td>0</td>\n      <td>49.990189</td>\n      <td>2023-09-21 11:15:06.729513</td>\n      <td>2023-09-21 11:59:30.991146</td>\n      <td>0 days 00:44:24.261633</td>\n      <td>4</td>\n      <td>192</td>\n      <td>5</td>\n      <td>5</td>\n      <td>6</td>\n      <td>...</td>\n      <td>0.854249</td>\n      <td>43.975235</td>\n      <td>0.892186</td>\n      <td>32.245373</td>\n      <td>0.837706</td>\n      <td>49.990189</td>\n      <td>49.990189</td>\n      <td>0.011425</td>\n      <td>0.049917</td>\n      <td>COMPLETE</td>\n    </tr>\n    <tr>\n      <th>1</th>\n      <td>1</td>\n      <td>53.613926</td>\n      <td>2023-09-21 11:59:31.103981</td>\n      <td>2023-09-21 12:45:03.764811</td>\n      <td>0 days 00:45:32.660830</td>\n      <td>4</td>\n      <td>192</td>\n      <td>1</td>\n      <td>9</td>\n      <td>6</td>\n      <td>...</td>\n      <td>0.840266</td>\n      <td>49.125275</td>\n      <td>0.881859</td>\n      <td>35.358421</td>\n      <td>0.825952</td>\n      <td>53.613926</td>\n      <td>53.613926</td>\n      <td>0.011987</td>\n      <td>0.058062</td>\n      <td>COMPLETE</td>\n    </tr>\n    <tr>\n      <th>2</th>\n      <td>2</td>\n      <td>49.769371</td>\n      <td>2023-09-21 12:45:03.913810</td>\n      <td>2023-09-21 13:29:05.851197</td>\n      <td>0 days 00:44:01.937387</td>\n      <td>4</td>\n      <td>192</td>\n      <td>1</td>\n      <td>5</td>\n      <td>6</td>\n      <td>...</td>\n      <td>0.851532</td>\n      <td>45.101307</td>\n      <td>0.892450</td>\n      <td>32.163151</td>\n      <td>0.838122</td>\n      <td>49.769371</td>\n      <td>49.769371</td>\n      <td>0.011438</td>\n      <td>0.052829</td>\n      <td>COMPLETE</td>\n    </tr>\n    <tr>\n      <th>3</th>\n      <td>3</td>\n      <td>51.098377</td>\n      <td>2023-09-21 13:29:05.944623</td>\n      <td>2023-09-21 14:12:49.455934</td>\n      <td>0 days 00:43:43.511311</td>\n      <td>4</td>\n      <td>192</td>\n      <td>5</td>\n      <td>1</td>\n      <td>6</td>\n      <td>...</td>\n      <td>0.849100</td>\n      <td>45.959572</td>\n      <td>0.890869</td>\n      <td>32.640514</td>\n      <td>0.834248</td>\n      <td>51.098377</td>\n      <td>51.098377</td>\n      <td>0.011433</td>\n      <td>0.054570</td>\n      <td>COMPLETE</td>\n    </tr>\n    <tr>\n      <th>4</th>\n      <td>4</td>\n      <td>51.116627</td>\n      <td>2023-09-21 14:12:49.552010</td>\n      <td>2023-09-21 15:19:56.829323</td>\n      <td>0 days 01:07:07.277313</td>\n      <td>4</td>\n      <td>192</td>\n      <td>9</td>\n      <td>9</td>\n      <td>6</td>\n      <td>...</td>\n      <td>0.847329</td>\n      <td>46.841648</td>\n      <td>0.899043</td>\n      <td>30.197041</td>\n      <td>0.834627</td>\n      <td>51.116627</td>\n      <td>51.116627</td>\n      <td>0.010892</td>\n      <td>0.054797</td>\n      <td>COMPLETE</td>\n    </tr>\n    <tr>\n      <th>5</th>\n      <td>5</td>\n      <td>65.826248</td>\n      <td>2023-09-21 15:19:56.925985</td>\n      <td>2023-09-21 16:04:35.800191</td>\n      <td>0 days 00:44:38.874206</td>\n      <td>4</td>\n      <td>192</td>\n      <td>9</td>\n      <td>1</td>\n      <td>6</td>\n      <td>...</td>\n      <td>0.810912</td>\n      <td>59.477684</td>\n      <td>0.866551</td>\n      <td>39.972408</td>\n      <td>0.790749</td>\n      <td>65.826248</td>\n      <td>65.826248</td>\n      <td>0.011656</td>\n      <td>0.074524</td>\n      <td>COMPLETE</td>\n    </tr>\n    <tr>\n      <th>6</th>\n      <td>6</td>\n      <td>48.655354</td>\n      <td>2023-09-21 16:04:35.931149</td>\n      <td>2023-09-21 16:57:37.286309</td>\n      <td>0 days 00:53:01.355160</td>\n      <td>4</td>\n      <td>192</td>\n      <td>9</td>\n      <td>5</td>\n      <td>6</td>\n      <td>...</td>\n      <td>0.849099</td>\n      <td>46.231541</td>\n      <td>0.898936</td>\n      <td>30.226828</td>\n      <td>0.841733</td>\n      <td>48.655354</td>\n      <td>48.655354</td>\n      <td>0.010991</td>\n      <td>0.053244</td>\n      <td>COMPLETE</td>\n    </tr>\n    <tr>\n      <th>7</th>\n      <td>7</td>\n      <td>48.695423</td>\n      <td>2023-09-21 16:57:37.402987</td>\n      <td>2023-09-21 17:50:14.599434</td>\n      <td>0 days 00:52:37.196447</td>\n      <td>4</td>\n      <td>192</td>\n      <td>5</td>\n      <td>9</td>\n      <td>6</td>\n      <td>...</td>\n      <td>0.852626</td>\n      <td>44.936184</td>\n      <td>0.898799</td>\n      <td>30.271168</td>\n      <td>0.841940</td>\n      <td>48.695423</td>\n      <td>48.695423</td>\n      <td>0.011022</td>\n      <td>0.051205</td>\n      <td>COMPLETE</td>\n    </tr>\n    <tr>\n      <th>8</th>\n      <td>8</td>\n      <td>50.536537</td>\n      <td>2023-09-21 17:50:14.700131</td>\n      <td>2023-09-21 18:37:51.841681</td>\n      <td>0 days 00:47:37.141550</td>\n      <td>4</td>\n      <td>192</td>\n      <td>1</td>\n      <td>1</td>\n      <td>6</td>\n      <td>...</td>\n      <td>0.851546</td>\n      <td>45.734753</td>\n      <td>0.892108</td>\n      <td>32.285053</td>\n      <td>0.837192</td>\n      <td>50.536537</td>\n      <td>50.536537</td>\n      <td>0.012172</td>\n      <td>0.051947</td>\n      <td>COMPLETE</td>\n    </tr>\n  </tbody>\n</table>\n<p>9 rows × 32 columns</p>\n</div>"
     },
     "execution_count": 18,
     "metadata": {},
     "output_type": "execute_result"
    }
   ],
   "source": [
    "df = study.trials_dataframe()\n",
    "df"
   ],
   "metadata": {
    "collapsed": false,
    "ExecuteTime": {
     "start_time": "2023-09-28T16:18:08.364891Z",
     "end_time": "2023-09-28T16:18:08.463785Z"
    }
   }
  },
  {
   "cell_type": "code",
   "execution_count": 19,
   "outputs": [
    {
     "data": {
      "text/plain": "   number      value             datetime_start          datetime_complete   \n0       0  49.990189 2023-09-21 11:15:06.729513 2023-09-21 11:59:30.991146  \\\n1       1  53.613926 2023-09-21 11:59:31.103981 2023-09-21 12:45:03.764811   \n2       2  49.769371 2023-09-21 12:45:03.913810 2023-09-21 13:29:05.851197   \n3       3  51.098377 2023-09-21 13:29:05.944623 2023-09-21 14:12:49.455934   \n4       4  51.116627 2023-09-21 14:12:49.552010 2023-09-21 15:19:56.829323   \n5       5  65.826248 2023-09-21 15:19:56.925985 2023-09-21 16:04:35.800191   \n6       6  48.655354 2023-09-21 16:04:35.931149 2023-09-21 16:57:37.286309   \n7       7  48.695423 2023-09-21 16:57:37.402987 2023-09-21 17:50:14.599434   \n8       8  50.536537 2023-09-21 17:50:14.700131 2023-09-21 18:37:51.841681   \n\n                duration  params_channels_conv_blocks  params_dimPosEmb   \n0 0 days 00:44:24.261633                            4               192  \\\n1 0 days 00:45:32.660830                            4               192   \n2 0 days 00:44:01.937387                            4               192   \n3 0 days 00:43:43.511311                            4               192   \n4 0 days 01:07:07.277313                            4               192   \n5 0 days 00:44:38.874206                            4               192   \n6 0 days 00:53:01.355160                            4               192   \n7 0 days 00:52:37.196447                            4               192   \n8 0 days 00:47:37.141550                            4               192   \n\n   params_kernel1_x_Time  params_kernel1_y_Pose  params_num_blocks  ...   \n0                      5                      5                  6  ...  \\\n1                      1                      9                  6  ...   \n2                      1                      5                  6  ...   \n3                      5                      1                  6  ...   \n4                      9                      9                  6  ...   \n5                      9                      1                  6  ...   \n6                      9                      5                  6  ...   \n7                      5                      9                  6  ...   \n8                      1                      1                  6  ...   \n\n   user_attrs_2022-05-26_2persons_002/auc_pck   \n0                                    0.854249  \\\n1                                    0.840266   \n2                                    0.851532   \n3                                    0.849100   \n4                                    0.847329   \n5                                    0.810912   \n6                                    0.849099   \n7                                    0.852626   \n8                                    0.851546   \n\n   user_attrs_2022-05-26_2persons_002/mpjpe   \n0                                 43.975235  \\\n1                                 49.125275   \n2                                 45.101307   \n3                                 45.959572   \n4                                 46.841648   \n5                                 59.477684   \n6                                 46.231541   \n7                                 44.936184   \n8                                 45.734753   \n\n   user_attrs_2022-05-26_2persons_003/auc_pck   \n0                                    0.892186  \\\n1                                    0.881859   \n2                                    0.892450   \n3                                    0.890869   \n4                                    0.899043   \n5                                    0.866551   \n6                                    0.898936   \n7                                    0.898799   \n8                                    0.892108   \n\n   user_attrs_2022-05-26_2persons_003/mpjpe  user_attrs_auc_pck   \n0                                 32.245373            0.837706  \\\n1                                 35.358421            0.825952   \n2                                 32.163151            0.838122   \n3                                 32.640514            0.834248   \n4                                 30.197041            0.834627   \n5                                 39.972408            0.790749   \n6                                 30.226828            0.841733   \n7                                 30.271168            0.841940   \n8                                 32.285053            0.837192   \n\n   user_attrs_mpjpe  user_attrs_test_loss_mpjpe  user_attrs_train_loss_mpjpe   \n0         49.990189                   49.990189                     0.011425  \\\n1         53.613926                   53.613926                     0.011987   \n2         49.769371                   49.769371                     0.011438   \n3         51.098377                   51.098377                     0.011433   \n4         51.116627                   51.116627                     0.010892   \n5         65.826248                   65.826248                     0.011656   \n6         48.655354                   48.655354                     0.010991   \n7         48.695423                   48.695423                     0.011022   \n8         50.536537                   50.536537                     0.012172   \n\n   user_attrs_val_loss_mpjpe     state  \n0                   0.049917  COMPLETE  \n1                   0.058062  COMPLETE  \n2                   0.052829  COMPLETE  \n3                   0.054570  COMPLETE  \n4                   0.054797  COMPLETE  \n5                   0.074524  COMPLETE  \n6                   0.053244  COMPLETE  \n7                   0.051205  COMPLETE  \n8                   0.051947  COMPLETE  \n\n[9 rows x 32 columns]",
      "text/html": "<div>\n<style scoped>\n    .dataframe tbody tr th:only-of-type {\n        vertical-align: middle;\n    }\n\n    .dataframe tbody tr th {\n        vertical-align: top;\n    }\n\n    .dataframe thead th {\n        text-align: right;\n    }\n</style>\n<table border=\"1\" class=\"dataframe\">\n  <thead>\n    <tr style=\"text-align: right;\">\n      <th></th>\n      <th>number</th>\n      <th>value</th>\n      <th>datetime_start</th>\n      <th>datetime_complete</th>\n      <th>duration</th>\n      <th>params_channels_conv_blocks</th>\n      <th>params_dimPosEmb</th>\n      <th>params_kernel1_x_Time</th>\n      <th>params_kernel1_y_Pose</th>\n      <th>params_num_blocks</th>\n      <th>...</th>\n      <th>user_attrs_2022-05-26_2persons_002/auc_pck</th>\n      <th>user_attrs_2022-05-26_2persons_002/mpjpe</th>\n      <th>user_attrs_2022-05-26_2persons_003/auc_pck</th>\n      <th>user_attrs_2022-05-26_2persons_003/mpjpe</th>\n      <th>user_attrs_auc_pck</th>\n      <th>user_attrs_mpjpe</th>\n      <th>user_attrs_test_loss_mpjpe</th>\n      <th>user_attrs_train_loss_mpjpe</th>\n      <th>user_attrs_val_loss_mpjpe</th>\n      <th>state</th>\n    </tr>\n  </thead>\n  <tbody>\n    <tr>\n      <th>0</th>\n      <td>0</td>\n      <td>49.990189</td>\n      <td>2023-09-21 11:15:06.729513</td>\n      <td>2023-09-21 11:59:30.991146</td>\n      <td>0 days 00:44:24.261633</td>\n      <td>4</td>\n      <td>192</td>\n      <td>5</td>\n      <td>5</td>\n      <td>6</td>\n      <td>...</td>\n      <td>0.854249</td>\n      <td>43.975235</td>\n      <td>0.892186</td>\n      <td>32.245373</td>\n      <td>0.837706</td>\n      <td>49.990189</td>\n      <td>49.990189</td>\n      <td>0.011425</td>\n      <td>0.049917</td>\n      <td>COMPLETE</td>\n    </tr>\n    <tr>\n      <th>1</th>\n      <td>1</td>\n      <td>53.613926</td>\n      <td>2023-09-21 11:59:31.103981</td>\n      <td>2023-09-21 12:45:03.764811</td>\n      <td>0 days 00:45:32.660830</td>\n      <td>4</td>\n      <td>192</td>\n      <td>1</td>\n      <td>9</td>\n      <td>6</td>\n      <td>...</td>\n      <td>0.840266</td>\n      <td>49.125275</td>\n      <td>0.881859</td>\n      <td>35.358421</td>\n      <td>0.825952</td>\n      <td>53.613926</td>\n      <td>53.613926</td>\n      <td>0.011987</td>\n      <td>0.058062</td>\n      <td>COMPLETE</td>\n    </tr>\n    <tr>\n      <th>2</th>\n      <td>2</td>\n      <td>49.769371</td>\n      <td>2023-09-21 12:45:03.913810</td>\n      <td>2023-09-21 13:29:05.851197</td>\n      <td>0 days 00:44:01.937387</td>\n      <td>4</td>\n      <td>192</td>\n      <td>1</td>\n      <td>5</td>\n      <td>6</td>\n      <td>...</td>\n      <td>0.851532</td>\n      <td>45.101307</td>\n      <td>0.892450</td>\n      <td>32.163151</td>\n      <td>0.838122</td>\n      <td>49.769371</td>\n      <td>49.769371</td>\n      <td>0.011438</td>\n      <td>0.052829</td>\n      <td>COMPLETE</td>\n    </tr>\n    <tr>\n      <th>3</th>\n      <td>3</td>\n      <td>51.098377</td>\n      <td>2023-09-21 13:29:05.944623</td>\n      <td>2023-09-21 14:12:49.455934</td>\n      <td>0 days 00:43:43.511311</td>\n      <td>4</td>\n      <td>192</td>\n      <td>5</td>\n      <td>1</td>\n      <td>6</td>\n      <td>...</td>\n      <td>0.849100</td>\n      <td>45.959572</td>\n      <td>0.890869</td>\n      <td>32.640514</td>\n      <td>0.834248</td>\n      <td>51.098377</td>\n      <td>51.098377</td>\n      <td>0.011433</td>\n      <td>0.054570</td>\n      <td>COMPLETE</td>\n    </tr>\n    <tr>\n      <th>4</th>\n      <td>4</td>\n      <td>51.116627</td>\n      <td>2023-09-21 14:12:49.552010</td>\n      <td>2023-09-21 15:19:56.829323</td>\n      <td>0 days 01:07:07.277313</td>\n      <td>4</td>\n      <td>192</td>\n      <td>9</td>\n      <td>9</td>\n      <td>6</td>\n      <td>...</td>\n      <td>0.847329</td>\n      <td>46.841648</td>\n      <td>0.899043</td>\n      <td>30.197041</td>\n      <td>0.834627</td>\n      <td>51.116627</td>\n      <td>51.116627</td>\n      <td>0.010892</td>\n      <td>0.054797</td>\n      <td>COMPLETE</td>\n    </tr>\n    <tr>\n      <th>5</th>\n      <td>5</td>\n      <td>65.826248</td>\n      <td>2023-09-21 15:19:56.925985</td>\n      <td>2023-09-21 16:04:35.800191</td>\n      <td>0 days 00:44:38.874206</td>\n      <td>4</td>\n      <td>192</td>\n      <td>9</td>\n      <td>1</td>\n      <td>6</td>\n      <td>...</td>\n      <td>0.810912</td>\n      <td>59.477684</td>\n      <td>0.866551</td>\n      <td>39.972408</td>\n      <td>0.790749</td>\n      <td>65.826248</td>\n      <td>65.826248</td>\n      <td>0.011656</td>\n      <td>0.074524</td>\n      <td>COMPLETE</td>\n    </tr>\n    <tr>\n      <th>6</th>\n      <td>6</td>\n      <td>48.655354</td>\n      <td>2023-09-21 16:04:35.931149</td>\n      <td>2023-09-21 16:57:37.286309</td>\n      <td>0 days 00:53:01.355160</td>\n      <td>4</td>\n      <td>192</td>\n      <td>9</td>\n      <td>5</td>\n      <td>6</td>\n      <td>...</td>\n      <td>0.849099</td>\n      <td>46.231541</td>\n      <td>0.898936</td>\n      <td>30.226828</td>\n      <td>0.841733</td>\n      <td>48.655354</td>\n      <td>48.655354</td>\n      <td>0.010991</td>\n      <td>0.053244</td>\n      <td>COMPLETE</td>\n    </tr>\n    <tr>\n      <th>7</th>\n      <td>7</td>\n      <td>48.695423</td>\n      <td>2023-09-21 16:57:37.402987</td>\n      <td>2023-09-21 17:50:14.599434</td>\n      <td>0 days 00:52:37.196447</td>\n      <td>4</td>\n      <td>192</td>\n      <td>5</td>\n      <td>9</td>\n      <td>6</td>\n      <td>...</td>\n      <td>0.852626</td>\n      <td>44.936184</td>\n      <td>0.898799</td>\n      <td>30.271168</td>\n      <td>0.841940</td>\n      <td>48.695423</td>\n      <td>48.695423</td>\n      <td>0.011022</td>\n      <td>0.051205</td>\n      <td>COMPLETE</td>\n    </tr>\n    <tr>\n      <th>8</th>\n      <td>8</td>\n      <td>50.536537</td>\n      <td>2023-09-21 17:50:14.700131</td>\n      <td>2023-09-21 18:37:51.841681</td>\n      <td>0 days 00:47:37.141550</td>\n      <td>4</td>\n      <td>192</td>\n      <td>1</td>\n      <td>1</td>\n      <td>6</td>\n      <td>...</td>\n      <td>0.851546</td>\n      <td>45.734753</td>\n      <td>0.892108</td>\n      <td>32.285053</td>\n      <td>0.837192</td>\n      <td>50.536537</td>\n      <td>50.536537</td>\n      <td>0.012172</td>\n      <td>0.051947</td>\n      <td>COMPLETE</td>\n    </tr>\n  </tbody>\n</table>\n<p>9 rows × 32 columns</p>\n</div>"
     },
     "execution_count": 19,
     "metadata": {},
     "output_type": "execute_result"
    }
   ],
   "source": [
    "df.dropna(axis=0, how='any', inplace=True) #\n",
    "df"
   ],
   "metadata": {
    "collapsed": false,
    "ExecuteTime": {
     "start_time": "2023-09-28T16:18:10.271023Z",
     "end_time": "2023-09-28T16:18:10.318483Z"
    }
   }
  },
  {
   "cell_type": "code",
   "execution_count": 20,
   "outputs": [
    {
     "name": "stdout",
     "output_type": "stream",
     "text": [
      "[1, 5, 9] [1, 5, 9]\n"
     ]
    }
   ],
   "source": [
    "kernels_x = sorted(df['params_kernel1_x_Time'].unique())\n",
    "kernels_y = sorted(df['params_kernel1_y_Pose'].unique())\n",
    "print(kernels_x, kernels_y)"
   ],
   "metadata": {
    "collapsed": false,
    "ExecuteTime": {
     "start_time": "2023-09-28T16:18:11.662632Z",
     "end_time": "2023-09-28T16:18:11.666857Z"
    }
   }
  },
  {
   "cell_type": "code",
   "execution_count": 22,
   "outputs": [
    {
     "name": "stdout",
     "output_type": "stream",
     "text": [
      "           1          5          9\n",
      "1  50.536537  49.769371  53.613926\n",
      "5  51.098377  49.990189  48.695423\n",
      "9  65.826248  48.655354  51.116627\n"
     ]
    }
   ],
   "source": [
    "# make a dataframe in which row indices will be values of kernels_x, column indices will be values of kernels_y, and values will be the 'values_0' column values from df\n",
    "import numpy as np\n",
    "import pandas as pd\n",
    "\n",
    "df2 = pd.DataFrame(index=kernels_x, columns=kernels_y)\n",
    "\n",
    "for i, x in enumerate(kernels_x):\n",
    "    for y in kernels_y:\n",
    "        possible_value = df[(df['params_kernel1_x_Time'] == x) & (df['params_kernel1_y_Pose'] == y)]['value'].values\n",
    "        if len(possible_value) == 0:\n",
    "            df2.loc[x, y] = np.nan\n",
    "        else:\n",
    "            df2.loc[x, y] = possible_value[0]\n",
    "\n",
    "# round all values to 1 decimal place\n",
    "\n",
    "df2 = df2\n",
    "df2 = df2.round(1)\n",
    "print(df2)"
   ],
   "metadata": {
    "collapsed": false,
    "ExecuteTime": {
     "start_time": "2023-09-28T16:18:18.246407Z",
     "end_time": "2023-09-28T16:18:18.257295Z"
    }
   }
  },
  {
   "cell_type": "code",
   "execution_count": 23,
   "outputs": [
    {
     "name": "stdout",
     "output_type": "stream",
     "text": [
      "\\begin{tabular}{llll}\n",
      "\\toprule\n",
      " & 1 & 5 & 9 \\\\\n",
      "\\midrule\n",
      "1 & 50.536537 & 49.769371 & 53.613926 \\\\\n",
      "5 & 51.098377 & 49.990189 & 48.695423 \\\\\n",
      "9 & 65.826248 & 48.655354 & 51.116627 \\\\\n",
      "\\bottomrule\n",
      "\\end{tabular}\n",
      "\n"
     ]
    }
   ],
   "source": [
    "print(df2.to_latex())"
   ],
   "metadata": {
    "collapsed": false,
    "ExecuteTime": {
     "start_time": "2023-09-28T16:18:32.859994Z",
     "end_time": "2023-09-28T16:18:32.870791Z"
    }
   }
  },
  {
   "cell_type": "code",
   "execution_count": 38,
   "outputs": [
    {
     "data": {
      "text/plain": "'|    |       1 |       5 |       9 |      13 |      17 |      21 |      25 |      29 |\\n|---:|--------:|--------:|--------:|--------:|--------:|--------:|--------:|--------:|\\n|  1 | 30.6815 | 26.4853 | 27.3145 | 26.9592 | 27.8301 | 29.2108 | 29.567  | 29.9535 |\\n|  5 | 27.112  | 25.5284 | 26.7555 | 28.9306 | 31.4079 | 32.5239 | 32.9506 | 32.6089 |\\n|  9 | 26.588  | 28.9886 | 28.7244 | 33.909  | 33.7906 | 30.8358 | 38.1321 | 35.0565 |'"
     },
     "execution_count": 38,
     "metadata": {},
     "output_type": "execute_result"
    }
   ],
   "source": [
    "df2.to_markdown()"
   ],
   "metadata": {
    "collapsed": false,
    "ExecuteTime": {
     "start_time": "2023-09-19T19:41:53.435995Z",
     "end_time": "2023-09-19T19:41:53.456893Z"
    }
   }
  },
  {
   "cell_type": "code",
   "execution_count": 24,
   "outputs": [
    {
     "data": {
      "text/plain": "   number      value             datetime_start          datetime_complete   \n7       7  48.695423 2023-09-21 16:57:37.402987 2023-09-21 17:50:14.599434  \\\n\n                duration  params_channels_conv_blocks  params_dimPosEmb   \n7 0 days 00:52:37.196447                            4               192  \\\n\n   params_kernel1_x_Time  params_kernel1_y_Pose  params_num_blocks  ...   \n7                      5                      9                  6  ...  \\\n\n   user_attrs_2022-05-26_2persons_002/auc_pck   \n7                                    0.852626  \\\n\n   user_attrs_2022-05-26_2persons_002/mpjpe   \n7                                 44.936184  \\\n\n   user_attrs_2022-05-26_2persons_003/auc_pck   \n7                                    0.898799  \\\n\n   user_attrs_2022-05-26_2persons_003/mpjpe  user_attrs_auc_pck   \n7                                 30.271168             0.84194  \\\n\n   user_attrs_mpjpe  user_attrs_test_loss_mpjpe  user_attrs_train_loss_mpjpe   \n7         48.695423                   48.695423                     0.011022  \\\n\n   user_attrs_val_loss_mpjpe     state  \n7                   0.051205  COMPLETE  \n\n[1 rows x 32 columns]",
      "text/html": "<div>\n<style scoped>\n    .dataframe tbody tr th:only-of-type {\n        vertical-align: middle;\n    }\n\n    .dataframe tbody tr th {\n        vertical-align: top;\n    }\n\n    .dataframe thead th {\n        text-align: right;\n    }\n</style>\n<table border=\"1\" class=\"dataframe\">\n  <thead>\n    <tr style=\"text-align: right;\">\n      <th></th>\n      <th>number</th>\n      <th>value</th>\n      <th>datetime_start</th>\n      <th>datetime_complete</th>\n      <th>duration</th>\n      <th>params_channels_conv_blocks</th>\n      <th>params_dimPosEmb</th>\n      <th>params_kernel1_x_Time</th>\n      <th>params_kernel1_y_Pose</th>\n      <th>params_num_blocks</th>\n      <th>...</th>\n      <th>user_attrs_2022-05-26_2persons_002/auc_pck</th>\n      <th>user_attrs_2022-05-26_2persons_002/mpjpe</th>\n      <th>user_attrs_2022-05-26_2persons_003/auc_pck</th>\n      <th>user_attrs_2022-05-26_2persons_003/mpjpe</th>\n      <th>user_attrs_auc_pck</th>\n      <th>user_attrs_mpjpe</th>\n      <th>user_attrs_test_loss_mpjpe</th>\n      <th>user_attrs_train_loss_mpjpe</th>\n      <th>user_attrs_val_loss_mpjpe</th>\n      <th>state</th>\n    </tr>\n  </thead>\n  <tbody>\n    <tr>\n      <th>7</th>\n      <td>7</td>\n      <td>48.695423</td>\n      <td>2023-09-21 16:57:37.402987</td>\n      <td>2023-09-21 17:50:14.599434</td>\n      <td>0 days 00:52:37.196447</td>\n      <td>4</td>\n      <td>192</td>\n      <td>5</td>\n      <td>9</td>\n      <td>6</td>\n      <td>...</td>\n      <td>0.852626</td>\n      <td>44.936184</td>\n      <td>0.898799</td>\n      <td>30.271168</td>\n      <td>0.84194</td>\n      <td>48.695423</td>\n      <td>48.695423</td>\n      <td>0.011022</td>\n      <td>0.051205</td>\n      <td>COMPLETE</td>\n    </tr>\n  </tbody>\n</table>\n<p>1 rows × 32 columns</p>\n</div>"
     },
     "execution_count": 24,
     "metadata": {},
     "output_type": "execute_result"
    }
   ],
   "source": [
    "df_best = df[(df['params_channels_conv_blocks'] == 4) & (df['params_dimPosEmb'] == 192) & (df['params_kernel1_x_Time'] == 5) & (df['params_kernel1_y_Pose'] == 9) & (df['params_num_blocks'] == 6)].copy()\n",
    "df_best"
   ],
   "metadata": {
    "collapsed": false,
    "ExecuteTime": {
     "start_time": "2023-09-28T16:25:46.604942Z",
     "end_time": "2023-09-28T16:25:46.675043Z"
    }
   }
  },
  {
   "cell_type": "code",
   "execution_count": 25,
   "outputs": [
    {
     "ename": "KeyError",
     "evalue": "'user_attrs_walking/mpjpe'",
     "output_type": "error",
     "traceback": [
      "\u001B[0;31m---------------------------------------------------------------------------\u001B[0m",
      "\u001B[0;31mKeyError\u001B[0m                                  Traceback (most recent call last)",
      "File \u001B[0;32m/scratch_net/manifoldnet/azhuavlev/conda_envs/pytcu11/lib/python3.10/site-packages/pandas/core/indexes/base.py:3652\u001B[0m, in \u001B[0;36mIndex.get_loc\u001B[0;34m(self, key)\u001B[0m\n\u001B[1;32m   3651\u001B[0m \u001B[38;5;28;01mtry\u001B[39;00m:\n\u001B[0;32m-> 3652\u001B[0m     \u001B[38;5;28;01mreturn\u001B[39;00m \u001B[38;5;28;43mself\u001B[39;49m\u001B[38;5;241;43m.\u001B[39;49m\u001B[43m_engine\u001B[49m\u001B[38;5;241;43m.\u001B[39;49m\u001B[43mget_loc\u001B[49m\u001B[43m(\u001B[49m\u001B[43mcasted_key\u001B[49m\u001B[43m)\u001B[49m\n\u001B[1;32m   3653\u001B[0m \u001B[38;5;28;01mexcept\u001B[39;00m \u001B[38;5;167;01mKeyError\u001B[39;00m \u001B[38;5;28;01mas\u001B[39;00m err:\n",
      "File \u001B[0;32m/scratch_net/manifoldnet/azhuavlev/conda_envs/pytcu11/lib/python3.10/site-packages/pandas/_libs/index.pyx:147\u001B[0m, in \u001B[0;36mpandas._libs.index.IndexEngine.get_loc\u001B[0;34m()\u001B[0m\n",
      "File \u001B[0;32m/scratch_net/manifoldnet/azhuavlev/conda_envs/pytcu11/lib/python3.10/site-packages/pandas/_libs/index.pyx:176\u001B[0m, in \u001B[0;36mpandas._libs.index.IndexEngine.get_loc\u001B[0;34m()\u001B[0m\n",
      "File \u001B[0;32mpandas/_libs/hashtable_class_helper.pxi:7080\u001B[0m, in \u001B[0;36mpandas._libs.hashtable.PyObjectHashTable.get_item\u001B[0;34m()\u001B[0m\n",
      "File \u001B[0;32mpandas/_libs/hashtable_class_helper.pxi:7088\u001B[0m, in \u001B[0;36mpandas._libs.hashtable.PyObjectHashTable.get_item\u001B[0;34m()\u001B[0m\n",
      "\u001B[0;31mKeyError\u001B[0m: 'user_attrs_walking/mpjpe'",
      "\nThe above exception was the direct cause of the following exception:\n",
      "\u001B[0;31mKeyError\u001B[0m                                  Traceback (most recent call last)",
      "Cell \u001B[0;32mIn[25], line 13\u001B[0m\n\u001B[1;32m     11\u001B[0m             df_actions\u001B[38;5;241m.\u001B[39mloc[\u001B[38;5;124m'\u001B[39m\u001B[38;5;124mAverage\u001B[39m\u001B[38;5;124m'\u001B[39m, metric] \u001B[38;5;241m=\u001B[39m \u001B[38;5;28mround\u001B[39m(df_best[\u001B[38;5;124mf\u001B[39m\u001B[38;5;124m'\u001B[39m\u001B[38;5;124muser_attrs_\u001B[39m\u001B[38;5;132;01m{\u001B[39;00mmetric\u001B[38;5;132;01m}\u001B[39;00m\u001B[38;5;124m'\u001B[39m]\u001B[38;5;241m.\u001B[39mvalues[\u001B[38;5;241m0\u001B[39m], \u001B[38;5;241m1\u001B[39m)\n\u001B[1;32m     12\u001B[0m         \u001B[38;5;28;01melse\u001B[39;00m:\n\u001B[0;32m---> 13\u001B[0m             df_actions\u001B[38;5;241m.\u001B[39mloc[action, metric] \u001B[38;5;241m=\u001B[39m \u001B[43mdf_best\u001B[49m\u001B[43m[\u001B[49m\u001B[38;5;124;43mf\u001B[39;49m\u001B[38;5;124;43m'\u001B[39;49m\u001B[38;5;124;43muser_attrs_\u001B[39;49m\u001B[38;5;132;43;01m{\u001B[39;49;00m\u001B[43maction\u001B[49m\u001B[38;5;132;43;01m}\u001B[39;49;00m\u001B[38;5;124;43m/\u001B[39;49m\u001B[38;5;132;43;01m{\u001B[39;49;00m\u001B[43mmetric\u001B[49m\u001B[38;5;132;43;01m}\u001B[39;49;00m\u001B[38;5;124;43m'\u001B[39;49m\u001B[43m]\u001B[49m\u001B[38;5;241m.\u001B[39mvalues[\u001B[38;5;241m0\u001B[39m]\n\u001B[1;32m     15\u001B[0m df_actions\n",
      "File \u001B[0;32m/scratch_net/manifoldnet/azhuavlev/conda_envs/pytcu11/lib/python3.10/site-packages/pandas/core/frame.py:3761\u001B[0m, in \u001B[0;36mDataFrame.__getitem__\u001B[0;34m(self, key)\u001B[0m\n\u001B[1;32m   3759\u001B[0m \u001B[38;5;28;01mif\u001B[39;00m \u001B[38;5;28mself\u001B[39m\u001B[38;5;241m.\u001B[39mcolumns\u001B[38;5;241m.\u001B[39mnlevels \u001B[38;5;241m>\u001B[39m \u001B[38;5;241m1\u001B[39m:\n\u001B[1;32m   3760\u001B[0m     \u001B[38;5;28;01mreturn\u001B[39;00m \u001B[38;5;28mself\u001B[39m\u001B[38;5;241m.\u001B[39m_getitem_multilevel(key)\n\u001B[0;32m-> 3761\u001B[0m indexer \u001B[38;5;241m=\u001B[39m \u001B[38;5;28;43mself\u001B[39;49m\u001B[38;5;241;43m.\u001B[39;49m\u001B[43mcolumns\u001B[49m\u001B[38;5;241;43m.\u001B[39;49m\u001B[43mget_loc\u001B[49m\u001B[43m(\u001B[49m\u001B[43mkey\u001B[49m\u001B[43m)\u001B[49m\n\u001B[1;32m   3762\u001B[0m \u001B[38;5;28;01mif\u001B[39;00m is_integer(indexer):\n\u001B[1;32m   3763\u001B[0m     indexer \u001B[38;5;241m=\u001B[39m [indexer]\n",
      "File \u001B[0;32m/scratch_net/manifoldnet/azhuavlev/conda_envs/pytcu11/lib/python3.10/site-packages/pandas/core/indexes/base.py:3654\u001B[0m, in \u001B[0;36mIndex.get_loc\u001B[0;34m(self, key)\u001B[0m\n\u001B[1;32m   3652\u001B[0m     \u001B[38;5;28;01mreturn\u001B[39;00m \u001B[38;5;28mself\u001B[39m\u001B[38;5;241m.\u001B[39m_engine\u001B[38;5;241m.\u001B[39mget_loc(casted_key)\n\u001B[1;32m   3653\u001B[0m \u001B[38;5;28;01mexcept\u001B[39;00m \u001B[38;5;167;01mKeyError\u001B[39;00m \u001B[38;5;28;01mas\u001B[39;00m err:\n\u001B[0;32m-> 3654\u001B[0m     \u001B[38;5;28;01mraise\u001B[39;00m \u001B[38;5;167;01mKeyError\u001B[39;00m(key) \u001B[38;5;28;01mfrom\u001B[39;00m \u001B[38;5;21;01merr\u001B[39;00m\n\u001B[1;32m   3655\u001B[0m \u001B[38;5;28;01mexcept\u001B[39;00m \u001B[38;5;167;01mTypeError\u001B[39;00m:\n\u001B[1;32m   3656\u001B[0m     \u001B[38;5;66;03m# If we have a listlike key, _check_indexing_error will raise\u001B[39;00m\n\u001B[1;32m   3657\u001B[0m     \u001B[38;5;66;03m#  InvalidIndexError. Otherwise we fall through and re-raise\u001B[39;00m\n\u001B[1;32m   3658\u001B[0m     \u001B[38;5;66;03m#  the TypeError.\u001B[39;00m\n\u001B[1;32m   3659\u001B[0m     \u001B[38;5;28mself\u001B[39m\u001B[38;5;241m.\u001B[39m_check_indexing_error(key)\n",
      "\u001B[0;31mKeyError\u001B[0m: 'user_attrs_walking/mpjpe'"
     ]
    }
   ],
   "source": [
    "actions = [\"walking\", \"eating\", \"smoking\", \"discussion\", \"directions\",\n",
    "                    \"greeting\", \"phoning\", \"posing\", \"purchases\", \"sitting\",\n",
    "                    \"sittingdown\", \"takingphoto\", \"waiting\", \"walkingdog\",\n",
    "                    \"walkingtogether\", '']\n",
    "metrics = ['mpjpe', 'auc_pck', 'joint_angle', 'euler_angle']\n",
    "\n",
    "df_actions = pd.DataFrame(index=actions[:-1], columns=metrics)\n",
    "for action in actions:\n",
    "    for metric in metrics:\n",
    "        if not action:\n",
    "            df_actions.loc['Average', metric] = round(df_best[f'user_attrs_{metric}'].values[0], 1)\n",
    "        else:\n",
    "            df_actions.loc[action, metric] = df_best[f'user_attrs_{action}/{metric}'].values[0]\n",
    "\n",
    "df_actions"
   ],
   "metadata": {
    "collapsed": false,
    "ExecuteTime": {
     "start_time": "2023-09-28T12:50:20.478950Z",
     "end_time": "2023-09-28T12:50:20.513580Z"
    }
   }
  },
  {
   "cell_type": "code",
   "execution_count": 26,
   "outputs": [
    {
     "data": {
      "text/plain": "                              type      mpjpe   auc_pck\n2021-08-04-singlePerson_000  train  35.246494  0.883088\n2021-08-04-singlePerson_001  train  35.857117  0.880506\n2021-08-04-singlePerson_002   test  51.291702   0.83456\n2021-08-04-singlePerson_003  train  42.045918  0.862157\n2022-05-26_2persons_000      train  39.128284  0.869532\n2022-05-26_2persons_001        val  51.204746  0.834525\n2022-05-26_2persons_002       test  44.936184  0.852626\n2022-05-26_2persons_003      train  30.271168  0.898799",
      "text/html": "<div>\n<style scoped>\n    .dataframe tbody tr th:only-of-type {\n        vertical-align: middle;\n    }\n\n    .dataframe tbody tr th {\n        vertical-align: top;\n    }\n\n    .dataframe thead th {\n        text-align: right;\n    }\n</style>\n<table border=\"1\" class=\"dataframe\">\n  <thead>\n    <tr style=\"text-align: right;\">\n      <th></th>\n      <th>type</th>\n      <th>mpjpe</th>\n      <th>auc_pck</th>\n    </tr>\n  </thead>\n  <tbody>\n    <tr>\n      <th>2021-08-04-singlePerson_000</th>\n      <td>train</td>\n      <td>35.246494</td>\n      <td>0.883088</td>\n    </tr>\n    <tr>\n      <th>2021-08-04-singlePerson_001</th>\n      <td>train</td>\n      <td>35.857117</td>\n      <td>0.880506</td>\n    </tr>\n    <tr>\n      <th>2021-08-04-singlePerson_002</th>\n      <td>test</td>\n      <td>51.291702</td>\n      <td>0.83456</td>\n    </tr>\n    <tr>\n      <th>2021-08-04-singlePerson_003</th>\n      <td>train</td>\n      <td>42.045918</td>\n      <td>0.862157</td>\n    </tr>\n    <tr>\n      <th>2022-05-26_2persons_000</th>\n      <td>train</td>\n      <td>39.128284</td>\n      <td>0.869532</td>\n    </tr>\n    <tr>\n      <th>2022-05-26_2persons_001</th>\n      <td>val</td>\n      <td>51.204746</td>\n      <td>0.834525</td>\n    </tr>\n    <tr>\n      <th>2022-05-26_2persons_002</th>\n      <td>test</td>\n      <td>44.936184</td>\n      <td>0.852626</td>\n    </tr>\n    <tr>\n      <th>2022-05-26_2persons_003</th>\n      <td>train</td>\n      <td>30.271168</td>\n      <td>0.898799</td>\n    </tr>\n  </tbody>\n</table>\n</div>"
     },
     "execution_count": 26,
     "metadata": {},
     "output_type": "execute_result"
    }
   ],
   "source": [
    "actions =   [\n",
    "    '2021-08-04-singlePerson_000',\n",
    "    '2021-08-04-singlePerson_001',\n",
    "    '2021-08-04-singlePerson_002',\n",
    "    '2021-08-04-singlePerson_003',\n",
    "    '2022-05-26_2persons_000',\n",
    "    '2022-05-26_2persons_001',\n",
    "    '2022-05-26_2persons_002',\n",
    "    '2022-05-26_2persons_003'\n",
    "]\n",
    "action_type = [\n",
    "    'train',\n",
    "    'train',\n",
    "    'test',\n",
    "    'train',\n",
    "    'train',\n",
    "    'val',\n",
    "    'test',\n",
    "    'train'\n",
    "]\n",
    "metrics = ['mpjpe', 'auc_pck']\n",
    "\n",
    "df_actions = pd.DataFrame(index=actions[:-1], columns=metrics)\n",
    "for action in actions:\n",
    "    for metric in metrics:\n",
    "        if not action:\n",
    "            df_actions.loc['Average', metric] = round(df_best[f'user_attrs_{metric}'].values[0], 1)\n",
    "        else:\n",
    "            df_actions.loc[action, metric] = df_best[f'user_attrs_{action}/{metric}'].values[0]\n",
    "# add column with action type\n",
    "df_actions['type'] = action_type\n",
    "\n",
    "# order columns to be type, mpjpe, auc_pck\n",
    "df_actions = df_actions[['type', 'mpjpe', 'auc_pck']]\n",
    "df_actions"
   ],
   "metadata": {
    "collapsed": false,
    "ExecuteTime": {
     "start_time": "2023-09-28T16:25:49.045042Z",
     "end_time": "2023-09-28T16:25:49.087925Z"
    }
   }
  },
  {
   "cell_type": "code",
   "execution_count": 42,
   "outputs": [
    {
     "name": "stdout",
     "output_type": "stream",
     "text": [
      "\\begin{tabular}{llll}\n",
      "\\toprule\n",
      " & type & mpjpe & auc_pck \\\\\n",
      "\\midrule\n",
      "2021-08-04-singlePerson_000 & train & 20.268465 & 0.932224 \\\\\n",
      "2021-08-04-singlePerson_001 & train & 19.976822 & 0.933186 \\\\\n",
      "2021-08-04-singlePerson_002 & test & 26.942854 & 0.910020 \\\\\n",
      "2021-08-04-singlePerson_003 & train & 20.975073 & 0.929852 \\\\\n",
      "2022-05-26_2persons_000 & train & 22.196779 & 0.925798 \\\\\n",
      "2022-05-26_2persons_001 & val & 30.224169 & 0.899005 \\\\\n",
      "2022-05-26_2persons_002 & test & 27.348969 & 0.908540 \\\\\n",
      "2022-05-26_2persons_003 & train & 16.557066 & 0.944620 \\\\\n",
      "\\bottomrule\n",
      "\\end{tabular}\n",
      "\n"
     ]
    }
   ],
   "source": [
    "print(df_actions.to_latex())"
   ],
   "metadata": {
    "collapsed": false,
    "ExecuteTime": {
     "start_time": "2023-09-19T19:55:50.758311Z",
     "end_time": "2023-09-19T19:55:53.901353Z"
    }
   }
  },
  {
   "cell_type": "code",
   "execution_count": 13,
   "outputs": [
    {
     "name": "stdout",
     "output_type": "stream",
     "text": [
      "Looking in indexes: https://pypi.org/simple, https://pypi.ngc.nvidia.com\r\n",
      "Collecting tabulate\r\n",
      "  Downloading tabulate-0.9.0-py3-none-any.whl (35 kB)\r\n",
      "Installing collected packages: tabulate\r\n",
      "Successfully installed tabulate-0.9.0\r\n"
     ]
    }
   ],
   "source": [
    "!pip install tabulate"
   ],
   "metadata": {
    "collapsed": false,
    "ExecuteTime": {
     "start_time": "2023-09-19T11:05:52.183657Z",
     "end_time": "2023-09-19T11:06:02.289349Z"
    }
   }
  },
  {
   "cell_type": "code",
   "execution_count": 27,
   "outputs": [
    {
     "name": "stdout",
     "output_type": "stream",
     "text": [
      "|                             | type   |   mpjpe |   auc_pck |\n",
      "|:----------------------------|:-------|--------:|----------:|\n",
      "| 2021-08-04-singlePerson_000 | train  | 35.2465 |  0.883088 |\n",
      "| 2021-08-04-singlePerson_001 | train  | 35.8571 |  0.880506 |\n",
      "| 2021-08-04-singlePerson_002 | test   | 51.2917 |  0.83456  |\n",
      "| 2021-08-04-singlePerson_003 | train  | 42.0459 |  0.862157 |\n",
      "| 2022-05-26_2persons_000     | train  | 39.1283 |  0.869532 |\n",
      "| 2022-05-26_2persons_001     | val    | 51.2047 |  0.834525 |\n",
      "| 2022-05-26_2persons_002     | test   | 44.9362 |  0.852626 |\n",
      "| 2022-05-26_2persons_003     | train  | 30.2712 |  0.898799 |\n"
     ]
    }
   ],
   "source": [
    "print(df_actions.to_markdown())"
   ],
   "metadata": {
    "collapsed": false,
    "ExecuteTime": {
     "start_time": "2023-09-28T16:25:54.465945Z",
     "end_time": "2023-09-28T16:25:54.473842Z"
    }
   }
  },
  {
   "cell_type": "code",
   "execution_count": 10,
   "outputs": [],
   "source": [
    "import os\n",
    "import os\n",
    "import shutil\n",
    "\n",
    "copy_folder = f'/home/azhuavlev/Desktop/Results/CUDA_lab/Final_project/studies_db'\n",
    "os.makedirs(copy_folder, exist_ok=True)\n",
    "\n",
    "for study_folder in os.listdir(base_folder):\n",
    "    study_db = f'{base_folder}/{study_folder}/results.db'\n",
    "    if os.path.exists(study_db):\n",
    "        # os.mkdirs(f'{copy_folder}/{folder}', exist_ok=True)\n",
    "        shutil.copyfile(study_db, f'{copy_folder}/{study_folder}.db')"
   ],
   "metadata": {
    "collapsed": false
   }
  },
  {
   "cell_type": "code",
   "execution_count": null,
   "outputs": [],
   "source": [],
   "metadata": {
    "collapsed": false
   }
  },
  {
   "cell_type": "code",
   "execution_count": 51,
   "outputs": [
    {
     "data": {
      "text/plain": "[3, 4, 5]"
     },
     "execution_count": 51,
     "metadata": {},
     "output_type": "execute_result"
    }
   ],
   "source": [
    "l = [1, 2, 3, 4, 5]\n",
    "l[-3:]"
   ],
   "metadata": {
    "collapsed": false,
    "ExecuteTime": {
     "start_time": "2023-09-20T19:59:48.512760Z",
     "end_time": "2023-09-20T19:59:48.587609Z"
    }
   }
  },
  {
   "cell_type": "code",
   "execution_count": null,
   "outputs": [],
   "source": [],
   "metadata": {
    "collapsed": false
   }
  }
 ],
 "metadata": {
  "kernelspec": {
   "display_name": "Python 3",
   "language": "python",
   "name": "python3"
  },
  "language_info": {
   "codemirror_mode": {
    "name": "ipython",
    "version": 2
   },
   "file_extension": ".py",
   "mimetype": "text/x-python",
   "name": "python",
   "nbconvert_exporter": "python",
   "pygments_lexer": "ipython2",
   "version": "2.7.6"
  }
 },
 "nbformat": 4,
 "nbformat_minor": 0
}
