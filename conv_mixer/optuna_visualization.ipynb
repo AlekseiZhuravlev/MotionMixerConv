{
 "cells": [
  {
   "cell_type": "code",
   "execution_count": 43,
   "outputs": [
    {
     "name": "stderr",
     "output_type": "stream",
     "text": [
      "[I 2023-09-20 10:50:04,499] Using an existing study with name 'ais_reg=-1_out_nTP=10_skip=1_onlyKernels_twice_global' instead of creating a new one.\n"
     ]
    }
   ],
   "source": [
    "import optuna\n",
    "\n",
    "# /home/azhuavlev/Desktop/Results/CUDA_lab/Final_project/studies/ais_reg=-1_out_nTP=10_skip=1_onlyKernels_twice_global/results.db\n",
    "\n",
    "base_folder = f'/home/azhuavlev/Desktop/Results/CUDA_lab/Final_project/studies'\n",
    "study_name = 'ais_reg=-1_out_nTP=10_skip=1_onlyKernels_twice_global'\n",
    "\n",
    "\n",
    "study = optuna.create_study(\n",
    "    study_name=study_name,\n",
    "    storage=f\"sqlite:///{base_folder}/{study_name}/results.db\",\n",
    "    directions=[\"minimize\"],\n",
    "    load_if_exists=True,\n",
    ")"
   ],
   "metadata": {
    "collapsed": false,
    "ExecuteTime": {
     "start_time": "2023-09-20T10:50:04.115328Z",
     "end_time": "2023-09-20T10:50:04.600939Z"
    }
   }
  },
  {
   "cell_type": "code",
   "execution_count": 30,
   "outputs": [
    {
     "ename": "ValueError",
     "evalue": "`plot_pareto_front` function only supports 2 or 3 objective studies when using `targets` is `None`. Please use `targets` if your objective studies have more than 3 objectives.",
     "output_type": "error",
     "traceback": [
      "\u001B[0;31m---------------------------------------------------------------------------\u001B[0m",
      "\u001B[0;31mValueError\u001B[0m                                Traceback (most recent call last)",
      "Cell \u001B[0;32mIn[30], line 5\u001B[0m\n\u001B[1;32m      1\u001B[0m \u001B[38;5;28;01mimport\u001B[39;00m \u001B[38;5;21;01moptuna\u001B[39;00m\n\u001B[1;32m      3\u001B[0m get_ipython()\u001B[38;5;241m.\u001B[39mrun_line_magic(\u001B[38;5;124m'\u001B[39m\u001B[38;5;124mmatplotlib\u001B[39m\u001B[38;5;124m'\u001B[39m, \u001B[38;5;124m'\u001B[39m\u001B[38;5;124minline\u001B[39m\u001B[38;5;124m'\u001B[39m)\n\u001B[0;32m----> 5\u001B[0m \u001B[43moptuna\u001B[49m\u001B[38;5;241;43m.\u001B[39;49m\u001B[43mvisualization\u001B[49m\u001B[38;5;241;43m.\u001B[39;49m\u001B[43mplot_pareto_front\u001B[49m\u001B[43m(\u001B[49m\u001B[43mstudy\u001B[49m\u001B[43m)\u001B[49m\n\u001B[1;32m      6\u001B[0m \u001B[38;5;66;03m# print(plot.dtype)\u001B[39;00m\n",
      "File \u001B[0;32m/scratch_net/manifoldnet/azhuavlev/conda_envs/pytcu11/lib/python3.10/site-packages/optuna/visualization/_pareto_front.py:160\u001B[0m, in \u001B[0;36mplot_pareto_front\u001B[0;34m(study, target_names, include_dominated_trials, axis_order, constraints_func, targets)\u001B[0m\n\u001B[1;32m     47\u001B[0m \u001B[38;5;250m\u001B[39m\u001B[38;5;124;03m\"\"\"Plot the Pareto front of a study.\u001B[39;00m\n\u001B[1;32m     48\u001B[0m \n\u001B[1;32m     49\u001B[0m \u001B[38;5;124;03m.. seealso::\u001B[39;00m\n\u001B[0;32m   (...)\u001B[0m\n\u001B[1;32m    155\u001B[0m \u001B[38;5;124;03m    A :class:`plotly.graph_objs.Figure` object.\u001B[39;00m\n\u001B[1;32m    156\u001B[0m \u001B[38;5;124;03m\"\"\"\u001B[39;00m\n\u001B[1;32m    158\u001B[0m _imports\u001B[38;5;241m.\u001B[39mcheck()\n\u001B[0;32m--> 160\u001B[0m info \u001B[38;5;241m=\u001B[39m \u001B[43m_get_pareto_front_info\u001B[49m\u001B[43m(\u001B[49m\n\u001B[1;32m    161\u001B[0m \u001B[43m    \u001B[49m\u001B[43mstudy\u001B[49m\u001B[43m,\u001B[49m\u001B[43m \u001B[49m\u001B[43mtarget_names\u001B[49m\u001B[43m,\u001B[49m\u001B[43m \u001B[49m\u001B[43minclude_dominated_trials\u001B[49m\u001B[43m,\u001B[49m\u001B[43m \u001B[49m\u001B[43maxis_order\u001B[49m\u001B[43m,\u001B[49m\u001B[43m \u001B[49m\u001B[43mconstraints_func\u001B[49m\u001B[43m,\u001B[49m\u001B[43m \u001B[49m\u001B[43mtargets\u001B[49m\n\u001B[1;32m    162\u001B[0m \u001B[43m\u001B[49m\u001B[43m)\u001B[49m\n\u001B[1;32m    163\u001B[0m \u001B[38;5;28;01mreturn\u001B[39;00m _get_pareto_front_plot(info)\n",
      "File \u001B[0;32m/scratch_net/manifoldnet/azhuavlev/conda_envs/pytcu11/lib/python3.10/site-packages/optuna/visualization/_pareto_front.py:294\u001B[0m, in \u001B[0;36m_get_pareto_front_info\u001B[0;34m(study, target_names, include_dominated_trials, axis_order, constraints_func, targets)\u001B[0m\n\u001B[1;32m    292\u001B[0m         _targets \u001B[38;5;241m=\u001B[39m _targets_default\n\u001B[1;32m    293\u001B[0m     \u001B[38;5;28;01melse\u001B[39;00m:\n\u001B[0;32m--> 294\u001B[0m         \u001B[38;5;28;01mraise\u001B[39;00m \u001B[38;5;167;01mValueError\u001B[39;00m(\n\u001B[1;32m    295\u001B[0m             \u001B[38;5;124m\"\u001B[39m\u001B[38;5;124m`plot_pareto_front` function only supports 2 or 3 objective\u001B[39m\u001B[38;5;124m\"\u001B[39m\n\u001B[1;32m    296\u001B[0m             \u001B[38;5;124m\"\u001B[39m\u001B[38;5;124m studies when using `targets` is `None`. Please use `targets`\u001B[39m\u001B[38;5;124m\"\u001B[39m\n\u001B[1;32m    297\u001B[0m             \u001B[38;5;124m\"\u001B[39m\u001B[38;5;124m if your objective studies have more than 3 objectives.\u001B[39m\u001B[38;5;124m\"\u001B[39m\n\u001B[1;32m    298\u001B[0m         )\n\u001B[1;32m    300\u001B[0m \u001B[38;5;28;01mdef\u001B[39;00m \u001B[38;5;21m_make_trials_with_values\u001B[39m(\n\u001B[1;32m    301\u001B[0m     trials: \u001B[38;5;28mlist\u001B[39m[FrozenTrial],\n\u001B[1;32m    302\u001B[0m     targets: Callable[[FrozenTrial], Sequence[\u001B[38;5;28mfloat\u001B[39m]],\n\u001B[1;32m    303\u001B[0m ) \u001B[38;5;241m-\u001B[39m\u001B[38;5;241m>\u001B[39m \u001B[38;5;28mlist\u001B[39m[\u001B[38;5;28mtuple\u001B[39m[FrozenTrial, \u001B[38;5;28mlist\u001B[39m[\u001B[38;5;28mfloat\u001B[39m]]]:\n\u001B[1;32m    304\u001B[0m     target_values \u001B[38;5;241m=\u001B[39m [targets(trial) \u001B[38;5;28;01mfor\u001B[39;00m trial \u001B[38;5;129;01min\u001B[39;00m trials]\n",
      "\u001B[0;31mValueError\u001B[0m: `plot_pareto_front` function only supports 2 or 3 objective studies when using `targets` is `None`. Please use `targets` if your objective studies have more than 3 objectives."
     ]
    }
   ],
   "source": [
    "import optuna\n",
    "\n",
    "%matplotlib inline\n",
    "\n",
    "optuna.visualization.plot_pareto_front(study)\n",
    "# print(plot.dtype)"
   ],
   "metadata": {
    "collapsed": false,
    "ExecuteTime": {
     "start_time": "2023-09-17T19:04:10.162422Z",
     "end_time": "2023-09-17T19:04:10.863813Z"
    }
   }
  },
  {
   "cell_type": "code",
   "execution_count": 44,
   "outputs": [
    {
     "data": {
      "text/plain": "    number      value             datetime_start          datetime_complete   \n0        0  71.439735 2023-09-17 13:26:28.208652 2023-09-17 13:46:57.606631  \\\n1        1        NaN 2023-09-17 13:27:02.026417 2023-09-17 13:27:09.562842   \n2        2  82.625496 2023-09-17 13:27:09.632601 2023-09-17 13:53:38.552210   \n3        3  76.697617 2023-09-17 13:27:21.282582 2023-09-17 13:45:26.313155   \n4        4        NaN 2023-09-17 13:45:26.414044 2023-09-17 13:45:31.612124   \n..     ...        ...                        ...                        ...   \n70      70        NaN 2023-09-17 15:55:23.313117 2023-09-17 15:55:28.552154   \n71      71        NaN 2023-09-17 15:55:28.617515 2023-09-17 15:55:33.848987   \n72      72        NaN 2023-09-17 15:55:33.906119 2023-09-17 15:55:39.133788   \n73      73        NaN 2023-09-17 15:55:39.198729 2023-09-17 15:55:44.437162   \n74      74        NaN 2023-09-17 15:55:44.501546 2023-09-17 15:55:49.743542   \n\n                 duration  params_channels_conv_blocks  params_dimPosEmb   \n0  0 days 00:20:29.397979                            8               192  \\\n1  0 days 00:00:07.536425                            8               192   \n2  0 days 00:26:28.919609                            8               192   \n3  0 days 00:18:05.030573                            8               192   \n4  0 days 00:00:05.198080                            8               192   \n..                    ...                          ...               ...   \n70 0 days 00:00:05.239037                            8               192   \n71 0 days 00:00:05.231472                            8               192   \n72 0 days 00:00:05.227669                            8               192   \n73 0 days 00:00:05.238433                            8               192   \n74 0 days 00:00:05.241996                            8               192   \n\n    params_kernel1_x_Time  params_kernel1_y_Pose  params_num_blocks  ...   \n0                       1                     25                  6  ...  \\\n1                       1                     25                  6  ...   \n2                       5                     25                  6  ...   \n3                       5                      1                  6  ...   \n4                       5                      1                  6  ...   \n..                    ...                    ...                ...  ...   \n70                      1                      9                  6  ...   \n71                      1                     21                  6  ...   \n72                      1                      9                  6  ...   \n73                      1                      9                  6  ...   \n74                      1                      9                  6  ...   \n\n    user_attrs_2022-05-26_2persons_002/auc_pck   \n0                                     0.729379  \\\n1                                          NaN   \n2                                     0.688196   \n3                                     0.701835   \n4                                          NaN   \n..                                         ...   \n70                                         NaN   \n71                                         NaN   \n72                                         NaN   \n73                                         NaN   \n74                                         NaN   \n\n    user_attrs_2022-05-26_2persons_002/mpjpe   \n0                                  83.987663  \\\n1                                        NaN   \n2                                  97.917686   \n3                                  91.909721   \n4                                        NaN   \n..                                       ...   \n70                                       NaN   \n71                                       NaN   \n72                                       NaN   \n73                                       NaN   \n74                                       NaN   \n\n    user_attrs_2022-05-26_2persons_003/auc_pck   \n0                                     0.846470  \\\n1                                          NaN   \n2                                     0.837020   \n3                                     0.839554   \n4                                          NaN   \n..                                         ...   \n70                                         NaN   \n71                                         NaN   \n72                                         NaN   \n73                                         NaN   \n74                                         NaN   \n\n    user_attrs_2022-05-26_2persons_003/mpjpe  user_attrs_auc_pck   \n0                                  45.905411            0.765590  \\\n1                                        NaN                 NaN   \n2                                  48.734287            0.730802   \n3                                  47.973972            0.747576   \n4                                        NaN                 NaN   \n..                                       ...                 ...   \n70                                       NaN                 NaN   \n71                                       NaN                 NaN   \n72                                       NaN                 NaN   \n73                                       NaN                 NaN   \n74                                       NaN                 NaN   \n\n    user_attrs_mpjpe  user_attrs_test_loss_mpjpe  user_attrs_train_loss_mpjpe   \n0          71.439735                   71.439735                     0.041416  \\\n1                NaN                         NaN                          NaN   \n2          82.625496                   82.625496                     0.043315   \n3          76.697617                   76.697617                     0.046340   \n4                NaN                         NaN                          NaN   \n..               ...                         ...                          ...   \n70               NaN                         NaN                          NaN   \n71               NaN                         NaN                          NaN   \n72               NaN                         NaN                          NaN   \n73               NaN                         NaN                          NaN   \n74               NaN                         NaN                          NaN   \n\n    user_attrs_val_loss_mpjpe     state  \n0                    0.093454  COMPLETE  \n1                         NaN      FAIL  \n2                    0.131855  COMPLETE  \n3                    0.106333  COMPLETE  \n4                         NaN      FAIL  \n..                        ...       ...  \n70                        NaN      FAIL  \n71                        NaN      FAIL  \n72                        NaN      FAIL  \n73                        NaN      FAIL  \n74                        NaN      FAIL  \n\n[75 rows x 32 columns]",
      "text/html": "<div>\n<style scoped>\n    .dataframe tbody tr th:only-of-type {\n        vertical-align: middle;\n    }\n\n    .dataframe tbody tr th {\n        vertical-align: top;\n    }\n\n    .dataframe thead th {\n        text-align: right;\n    }\n</style>\n<table border=\"1\" class=\"dataframe\">\n  <thead>\n    <tr style=\"text-align: right;\">\n      <th></th>\n      <th>number</th>\n      <th>value</th>\n      <th>datetime_start</th>\n      <th>datetime_complete</th>\n      <th>duration</th>\n      <th>params_channels_conv_blocks</th>\n      <th>params_dimPosEmb</th>\n      <th>params_kernel1_x_Time</th>\n      <th>params_kernel1_y_Pose</th>\n      <th>params_num_blocks</th>\n      <th>...</th>\n      <th>user_attrs_2022-05-26_2persons_002/auc_pck</th>\n      <th>user_attrs_2022-05-26_2persons_002/mpjpe</th>\n      <th>user_attrs_2022-05-26_2persons_003/auc_pck</th>\n      <th>user_attrs_2022-05-26_2persons_003/mpjpe</th>\n      <th>user_attrs_auc_pck</th>\n      <th>user_attrs_mpjpe</th>\n      <th>user_attrs_test_loss_mpjpe</th>\n      <th>user_attrs_train_loss_mpjpe</th>\n      <th>user_attrs_val_loss_mpjpe</th>\n      <th>state</th>\n    </tr>\n  </thead>\n  <tbody>\n    <tr>\n      <th>0</th>\n      <td>0</td>\n      <td>71.439735</td>\n      <td>2023-09-17 13:26:28.208652</td>\n      <td>2023-09-17 13:46:57.606631</td>\n      <td>0 days 00:20:29.397979</td>\n      <td>8</td>\n      <td>192</td>\n      <td>1</td>\n      <td>25</td>\n      <td>6</td>\n      <td>...</td>\n      <td>0.729379</td>\n      <td>83.987663</td>\n      <td>0.846470</td>\n      <td>45.905411</td>\n      <td>0.765590</td>\n      <td>71.439735</td>\n      <td>71.439735</td>\n      <td>0.041416</td>\n      <td>0.093454</td>\n      <td>COMPLETE</td>\n    </tr>\n    <tr>\n      <th>1</th>\n      <td>1</td>\n      <td>NaN</td>\n      <td>2023-09-17 13:27:02.026417</td>\n      <td>2023-09-17 13:27:09.562842</td>\n      <td>0 days 00:00:07.536425</td>\n      <td>8</td>\n      <td>192</td>\n      <td>1</td>\n      <td>25</td>\n      <td>6</td>\n      <td>...</td>\n      <td>NaN</td>\n      <td>NaN</td>\n      <td>NaN</td>\n      <td>NaN</td>\n      <td>NaN</td>\n      <td>NaN</td>\n      <td>NaN</td>\n      <td>NaN</td>\n      <td>NaN</td>\n      <td>FAIL</td>\n    </tr>\n    <tr>\n      <th>2</th>\n      <td>2</td>\n      <td>82.625496</td>\n      <td>2023-09-17 13:27:09.632601</td>\n      <td>2023-09-17 13:53:38.552210</td>\n      <td>0 days 00:26:28.919609</td>\n      <td>8</td>\n      <td>192</td>\n      <td>5</td>\n      <td>25</td>\n      <td>6</td>\n      <td>...</td>\n      <td>0.688196</td>\n      <td>97.917686</td>\n      <td>0.837020</td>\n      <td>48.734287</td>\n      <td>0.730802</td>\n      <td>82.625496</td>\n      <td>82.625496</td>\n      <td>0.043315</td>\n      <td>0.131855</td>\n      <td>COMPLETE</td>\n    </tr>\n    <tr>\n      <th>3</th>\n      <td>3</td>\n      <td>76.697617</td>\n      <td>2023-09-17 13:27:21.282582</td>\n      <td>2023-09-17 13:45:26.313155</td>\n      <td>0 days 00:18:05.030573</td>\n      <td>8</td>\n      <td>192</td>\n      <td>5</td>\n      <td>1</td>\n      <td>6</td>\n      <td>...</td>\n      <td>0.701835</td>\n      <td>91.909721</td>\n      <td>0.839554</td>\n      <td>47.973972</td>\n      <td>0.747576</td>\n      <td>76.697617</td>\n      <td>76.697617</td>\n      <td>0.046340</td>\n      <td>0.106333</td>\n      <td>COMPLETE</td>\n    </tr>\n    <tr>\n      <th>4</th>\n      <td>4</td>\n      <td>NaN</td>\n      <td>2023-09-17 13:45:26.414044</td>\n      <td>2023-09-17 13:45:31.612124</td>\n      <td>0 days 00:00:05.198080</td>\n      <td>8</td>\n      <td>192</td>\n      <td>5</td>\n      <td>1</td>\n      <td>6</td>\n      <td>...</td>\n      <td>NaN</td>\n      <td>NaN</td>\n      <td>NaN</td>\n      <td>NaN</td>\n      <td>NaN</td>\n      <td>NaN</td>\n      <td>NaN</td>\n      <td>NaN</td>\n      <td>NaN</td>\n      <td>FAIL</td>\n    </tr>\n    <tr>\n      <th>...</th>\n      <td>...</td>\n      <td>...</td>\n      <td>...</td>\n      <td>...</td>\n      <td>...</td>\n      <td>...</td>\n      <td>...</td>\n      <td>...</td>\n      <td>...</td>\n      <td>...</td>\n      <td>...</td>\n      <td>...</td>\n      <td>...</td>\n      <td>...</td>\n      <td>...</td>\n      <td>...</td>\n      <td>...</td>\n      <td>...</td>\n      <td>...</td>\n      <td>...</td>\n      <td>...</td>\n    </tr>\n    <tr>\n      <th>70</th>\n      <td>70</td>\n      <td>NaN</td>\n      <td>2023-09-17 15:55:23.313117</td>\n      <td>2023-09-17 15:55:28.552154</td>\n      <td>0 days 00:00:05.239037</td>\n      <td>8</td>\n      <td>192</td>\n      <td>1</td>\n      <td>9</td>\n      <td>6</td>\n      <td>...</td>\n      <td>NaN</td>\n      <td>NaN</td>\n      <td>NaN</td>\n      <td>NaN</td>\n      <td>NaN</td>\n      <td>NaN</td>\n      <td>NaN</td>\n      <td>NaN</td>\n      <td>NaN</td>\n      <td>FAIL</td>\n    </tr>\n    <tr>\n      <th>71</th>\n      <td>71</td>\n      <td>NaN</td>\n      <td>2023-09-17 15:55:28.617515</td>\n      <td>2023-09-17 15:55:33.848987</td>\n      <td>0 days 00:00:05.231472</td>\n      <td>8</td>\n      <td>192</td>\n      <td>1</td>\n      <td>21</td>\n      <td>6</td>\n      <td>...</td>\n      <td>NaN</td>\n      <td>NaN</td>\n      <td>NaN</td>\n      <td>NaN</td>\n      <td>NaN</td>\n      <td>NaN</td>\n      <td>NaN</td>\n      <td>NaN</td>\n      <td>NaN</td>\n      <td>FAIL</td>\n    </tr>\n    <tr>\n      <th>72</th>\n      <td>72</td>\n      <td>NaN</td>\n      <td>2023-09-17 15:55:33.906119</td>\n      <td>2023-09-17 15:55:39.133788</td>\n      <td>0 days 00:00:05.227669</td>\n      <td>8</td>\n      <td>192</td>\n      <td>1</td>\n      <td>9</td>\n      <td>6</td>\n      <td>...</td>\n      <td>NaN</td>\n      <td>NaN</td>\n      <td>NaN</td>\n      <td>NaN</td>\n      <td>NaN</td>\n      <td>NaN</td>\n      <td>NaN</td>\n      <td>NaN</td>\n      <td>NaN</td>\n      <td>FAIL</td>\n    </tr>\n    <tr>\n      <th>73</th>\n      <td>73</td>\n      <td>NaN</td>\n      <td>2023-09-17 15:55:39.198729</td>\n      <td>2023-09-17 15:55:44.437162</td>\n      <td>0 days 00:00:05.238433</td>\n      <td>8</td>\n      <td>192</td>\n      <td>1</td>\n      <td>9</td>\n      <td>6</td>\n      <td>...</td>\n      <td>NaN</td>\n      <td>NaN</td>\n      <td>NaN</td>\n      <td>NaN</td>\n      <td>NaN</td>\n      <td>NaN</td>\n      <td>NaN</td>\n      <td>NaN</td>\n      <td>NaN</td>\n      <td>FAIL</td>\n    </tr>\n    <tr>\n      <th>74</th>\n      <td>74</td>\n      <td>NaN</td>\n      <td>2023-09-17 15:55:44.501546</td>\n      <td>2023-09-17 15:55:49.743542</td>\n      <td>0 days 00:00:05.241996</td>\n      <td>8</td>\n      <td>192</td>\n      <td>1</td>\n      <td>9</td>\n      <td>6</td>\n      <td>...</td>\n      <td>NaN</td>\n      <td>NaN</td>\n      <td>NaN</td>\n      <td>NaN</td>\n      <td>NaN</td>\n      <td>NaN</td>\n      <td>NaN</td>\n      <td>NaN</td>\n      <td>NaN</td>\n      <td>FAIL</td>\n    </tr>\n  </tbody>\n</table>\n<p>75 rows × 32 columns</p>\n</div>"
     },
     "execution_count": 44,
     "metadata": {},
     "output_type": "execute_result"
    }
   ],
   "source": [
    "df = study.trials_dataframe()\n",
    "df"
   ],
   "metadata": {
    "collapsed": false,
    "ExecuteTime": {
     "start_time": "2023-09-20T10:50:08.152606Z",
     "end_time": "2023-09-20T10:50:08.271978Z"
    }
   }
  },
  {
   "cell_type": "code",
   "execution_count": 45,
   "outputs": [
    {
     "data": {
      "text/plain": "    number       value             datetime_start          datetime_complete   \n0        0   71.439735 2023-09-17 13:26:28.208652 2023-09-17 13:46:57.606631  \\\n2        2   82.625496 2023-09-17 13:27:09.632601 2023-09-17 13:53:38.552210   \n3        3   76.697617 2023-09-17 13:27:21.282582 2023-09-17 13:45:26.313155   \n5        5   84.194954 2023-09-17 13:45:31.707327 2023-09-17 14:03:31.885732   \n6        6   72.201927 2023-09-17 13:46:57.701116 2023-09-17 14:07:23.096242   \n7        7   79.097565 2023-09-17 13:53:38.656183 2023-09-17 14:11:07.331138   \n8        8   86.135109 2023-09-17 14:03:31.982205 2023-09-17 14:32:09.641579   \n9        9   80.905899 2023-09-17 14:07:23.199897 2023-09-17 14:27:59.399125   \n10      10   88.519356 2023-09-17 14:11:07.436150 2023-09-17 14:51:15.477120   \n11      11  103.485397 2023-09-17 14:27:59.493693 2023-09-17 14:47:47.248055   \n12      12   83.861687 2023-09-17 14:32:09.743547 2023-09-17 14:50:21.671183   \n14      14   72.948631 2023-09-17 14:47:52.744607 2023-09-17 15:07:59.559782   \n15      15   80.960884 2023-09-17 14:50:21.876841 2023-09-17 15:08:40.203205   \n16      16   72.241196 2023-09-17 14:51:15.592589 2023-09-17 15:12:27.637966   \n17      17   76.356560 2023-09-17 15:07:59.662669 2023-09-17 15:33:15.431887   \n18      18   81.617416 2023-09-17 15:08:40.303739 2023-09-17 15:28:47.113203   \n39      39   83.758354 2023-09-17 15:28:47.220681 2023-09-17 15:54:19.830581   \n40      40   70.839279 2023-09-17 15:33:15.622512 2023-09-17 15:53:04.704498   \n\n                 duration  params_channels_conv_blocks  params_dimPosEmb   \n0  0 days 00:20:29.397979                            8               192  \\\n2  0 days 00:26:28.919609                            8               192   \n3  0 days 00:18:05.030573                            8               192   \n5  0 days 00:18:00.178405                            8               192   \n6  0 days 00:20:25.395126                            8               192   \n7  0 days 00:17:28.674955                            8               192   \n8  0 days 00:28:37.659374                            8               192   \n9  0 days 00:20:36.199228                            8               192   \n10 0 days 00:40:08.040970                            8               192   \n11 0 days 00:19:47.754362                            8               192   \n12 0 days 00:18:11.927636                            8               192   \n14 0 days 00:20:06.815175                            8               192   \n15 0 days 00:18:18.326364                            8               192   \n16 0 days 00:21:12.045377                            8               192   \n17 0 days 00:25:15.769218                            8               192   \n18 0 days 00:20:06.809464                            8               192   \n39 0 days 00:25:32.609900                            8               192   \n40 0 days 00:19:49.081986                            8               192   \n\n    params_kernel1_x_Time  params_kernel1_y_Pose  params_num_blocks  ...   \n0                       1                     25                  6  ...  \\\n2                       5                     25                  6  ...   \n3                       5                      1                  6  ...   \n5                       9                      1                  6  ...   \n6                       5                      5                  6  ...   \n7                       1                      5                  6  ...   \n8                       9                     13                  6  ...   \n9                       9                      5                  6  ...   \n10                      9                     25                  6  ...   \n11                      1                      1                  6  ...   \n12                      1                     21                  6  ...   \n14                      1                     13                  6  ...   \n15                      1                     17                  6  ...   \n16                      5                     13                  6  ...   \n17                      5                     17                  6  ...   \n18                      5                      9                  6  ...   \n39                      5                     21                  6  ...   \n40                      1                      9                  6  ...   \n\n    user_attrs_2022-05-26_2persons_002/auc_pck   \n0                                     0.729379  \\\n2                                     0.688196   \n3                                     0.701835   \n5                                     0.690329   \n6                                     0.722921   \n7                                     0.724975   \n8                                     0.682121   \n9                                     0.693343   \n10                                    0.668445   \n11                                    0.606370   \n12                                    0.697957   \n14                                    0.735511   \n15                                    0.697324   \n16                                    0.736106   \n17                                    0.709760   \n18                                    0.711657   \n39                                    0.690116   \n40                                    0.738990   \n\n    user_attrs_2022-05-26_2persons_002/mpjpe   \n0                                  83.987663  \\\n2                                  97.917686   \n3                                  91.909721   \n5                                  94.810295   \n6                                  84.663689   \n7                                  84.874664   \n8                                  98.523338   \n9                                  94.841377   \n10                                106.697067   \n11                                122.474380   \n12                                 94.295349   \n14                                 81.233559   \n15                                 94.990440   \n16                                 80.263878   \n17                                 88.413895   \n18                                 89.507866   \n39                                 96.202995   \n40                                 79.929901   \n\n    user_attrs_2022-05-26_2persons_003/auc_pck   \n0                                     0.846470  \\\n2                                     0.837020   \n3                                     0.839554   \n5                                     0.817253   \n6                                     0.838956   \n7                                     0.815885   \n8                                     0.823339   \n9                                     0.835453   \n10                                    0.839467   \n11                                    0.799627   \n12                                    0.823291   \n14                                    0.834515   \n15                                    0.831295   \n16                                    0.845571   \n17                                    0.842503   \n18                                    0.822673   \n39                                    0.834202   \n40                                    0.845022   \n\n    user_attrs_2022-05-26_2persons_003/mpjpe  user_attrs_auc_pck   \n0                                  45.905411            0.765590  \\\n2                                  48.734287            0.730802   \n3                                  47.973972            0.747576   \n5                                  54.641560            0.722178   \n6                                  48.152424            0.761334   \n7                                  55.053646            0.739913   \n8                                  52.821899            0.717475   \n9                                  49.200710            0.734501   \n10                                 47.999733            0.714993   \n11                                 59.910999            0.661860   \n12                                 52.835964            0.725750   \n14                                 49.480049            0.759436   \n15                                 50.441921            0.736008   \n16                                 46.174210            0.760618   \n17                                 47.091000            0.747327   \n18                                 53.021114            0.732568   \n39                                 49.574326            0.725558   \n40                                 46.338287            0.766153   \n\n    user_attrs_mpjpe  user_attrs_test_loss_mpjpe  user_attrs_train_loss_mpjpe   \n0          71.439735                   71.439735                     0.041416  \\\n2          82.625496                   82.625496                     0.043315   \n3          76.697617                   76.697617                     0.046340   \n5          84.194954                   84.194954                     0.051105   \n6          72.201927                   72.201927                     0.043490   \n7          79.097565                   79.097565                     0.052201   \n8          86.135109                   86.135109                     0.046971   \n9          80.905899                   80.905899                     0.044339   \n10         88.519356                   88.519356                     0.043763   \n11        103.485397                  103.485397                     0.059749   \n12         83.861687                   83.861687                     0.049712   \n14         72.948631                   72.948631                     0.046183   \n15         80.960884                   80.960884                     0.048638   \n16         72.241196                   72.241196                     0.041408   \n17         76.356560                   76.356560                     0.041811   \n18         81.617416                   81.617416                     0.048331   \n39         83.758354                   83.758354                     0.043608   \n40         70.839279                   70.839279                     0.043965   \n\n    user_attrs_val_loss_mpjpe     state  \n0                    0.093454  COMPLETE  \n2                    0.131855  COMPLETE  \n3                    0.106333  COMPLETE  \n5                    0.115895  COMPLETE  \n6                    0.120196  COMPLETE  \n7                    0.094242  COMPLETE  \n8                    0.136840  COMPLETE  \n9                    0.125133  COMPLETE  \n10                   0.146009  COMPLETE  \n11                   0.145414  COMPLETE  \n12                   0.112031  COMPLETE  \n14                   0.110377  COMPLETE  \n15                   0.106098  COMPLETE  \n16                   0.112761  COMPLETE  \n17                   0.126805  COMPLETE  \n18                   0.135066  COMPLETE  \n39                   0.124435  COMPLETE  \n40                   0.096618  COMPLETE  \n\n[18 rows x 32 columns]",
      "text/html": "<div>\n<style scoped>\n    .dataframe tbody tr th:only-of-type {\n        vertical-align: middle;\n    }\n\n    .dataframe tbody tr th {\n        vertical-align: top;\n    }\n\n    .dataframe thead th {\n        text-align: right;\n    }\n</style>\n<table border=\"1\" class=\"dataframe\">\n  <thead>\n    <tr style=\"text-align: right;\">\n      <th></th>\n      <th>number</th>\n      <th>value</th>\n      <th>datetime_start</th>\n      <th>datetime_complete</th>\n      <th>duration</th>\n      <th>params_channels_conv_blocks</th>\n      <th>params_dimPosEmb</th>\n      <th>params_kernel1_x_Time</th>\n      <th>params_kernel1_y_Pose</th>\n      <th>params_num_blocks</th>\n      <th>...</th>\n      <th>user_attrs_2022-05-26_2persons_002/auc_pck</th>\n      <th>user_attrs_2022-05-26_2persons_002/mpjpe</th>\n      <th>user_attrs_2022-05-26_2persons_003/auc_pck</th>\n      <th>user_attrs_2022-05-26_2persons_003/mpjpe</th>\n      <th>user_attrs_auc_pck</th>\n      <th>user_attrs_mpjpe</th>\n      <th>user_attrs_test_loss_mpjpe</th>\n      <th>user_attrs_train_loss_mpjpe</th>\n      <th>user_attrs_val_loss_mpjpe</th>\n      <th>state</th>\n    </tr>\n  </thead>\n  <tbody>\n    <tr>\n      <th>0</th>\n      <td>0</td>\n      <td>71.439735</td>\n      <td>2023-09-17 13:26:28.208652</td>\n      <td>2023-09-17 13:46:57.606631</td>\n      <td>0 days 00:20:29.397979</td>\n      <td>8</td>\n      <td>192</td>\n      <td>1</td>\n      <td>25</td>\n      <td>6</td>\n      <td>...</td>\n      <td>0.729379</td>\n      <td>83.987663</td>\n      <td>0.846470</td>\n      <td>45.905411</td>\n      <td>0.765590</td>\n      <td>71.439735</td>\n      <td>71.439735</td>\n      <td>0.041416</td>\n      <td>0.093454</td>\n      <td>COMPLETE</td>\n    </tr>\n    <tr>\n      <th>2</th>\n      <td>2</td>\n      <td>82.625496</td>\n      <td>2023-09-17 13:27:09.632601</td>\n      <td>2023-09-17 13:53:38.552210</td>\n      <td>0 days 00:26:28.919609</td>\n      <td>8</td>\n      <td>192</td>\n      <td>5</td>\n      <td>25</td>\n      <td>6</td>\n      <td>...</td>\n      <td>0.688196</td>\n      <td>97.917686</td>\n      <td>0.837020</td>\n      <td>48.734287</td>\n      <td>0.730802</td>\n      <td>82.625496</td>\n      <td>82.625496</td>\n      <td>0.043315</td>\n      <td>0.131855</td>\n      <td>COMPLETE</td>\n    </tr>\n    <tr>\n      <th>3</th>\n      <td>3</td>\n      <td>76.697617</td>\n      <td>2023-09-17 13:27:21.282582</td>\n      <td>2023-09-17 13:45:26.313155</td>\n      <td>0 days 00:18:05.030573</td>\n      <td>8</td>\n      <td>192</td>\n      <td>5</td>\n      <td>1</td>\n      <td>6</td>\n      <td>...</td>\n      <td>0.701835</td>\n      <td>91.909721</td>\n      <td>0.839554</td>\n      <td>47.973972</td>\n      <td>0.747576</td>\n      <td>76.697617</td>\n      <td>76.697617</td>\n      <td>0.046340</td>\n      <td>0.106333</td>\n      <td>COMPLETE</td>\n    </tr>\n    <tr>\n      <th>5</th>\n      <td>5</td>\n      <td>84.194954</td>\n      <td>2023-09-17 13:45:31.707327</td>\n      <td>2023-09-17 14:03:31.885732</td>\n      <td>0 days 00:18:00.178405</td>\n      <td>8</td>\n      <td>192</td>\n      <td>9</td>\n      <td>1</td>\n      <td>6</td>\n      <td>...</td>\n      <td>0.690329</td>\n      <td>94.810295</td>\n      <td>0.817253</td>\n      <td>54.641560</td>\n      <td>0.722178</td>\n      <td>84.194954</td>\n      <td>84.194954</td>\n      <td>0.051105</td>\n      <td>0.115895</td>\n      <td>COMPLETE</td>\n    </tr>\n    <tr>\n      <th>6</th>\n      <td>6</td>\n      <td>72.201927</td>\n      <td>2023-09-17 13:46:57.701116</td>\n      <td>2023-09-17 14:07:23.096242</td>\n      <td>0 days 00:20:25.395126</td>\n      <td>8</td>\n      <td>192</td>\n      <td>5</td>\n      <td>5</td>\n      <td>6</td>\n      <td>...</td>\n      <td>0.722921</td>\n      <td>84.663689</td>\n      <td>0.838956</td>\n      <td>48.152424</td>\n      <td>0.761334</td>\n      <td>72.201927</td>\n      <td>72.201927</td>\n      <td>0.043490</td>\n      <td>0.120196</td>\n      <td>COMPLETE</td>\n    </tr>\n    <tr>\n      <th>7</th>\n      <td>7</td>\n      <td>79.097565</td>\n      <td>2023-09-17 13:53:38.656183</td>\n      <td>2023-09-17 14:11:07.331138</td>\n      <td>0 days 00:17:28.674955</td>\n      <td>8</td>\n      <td>192</td>\n      <td>1</td>\n      <td>5</td>\n      <td>6</td>\n      <td>...</td>\n      <td>0.724975</td>\n      <td>84.874664</td>\n      <td>0.815885</td>\n      <td>55.053646</td>\n      <td>0.739913</td>\n      <td>79.097565</td>\n      <td>79.097565</td>\n      <td>0.052201</td>\n      <td>0.094242</td>\n      <td>COMPLETE</td>\n    </tr>\n    <tr>\n      <th>8</th>\n      <td>8</td>\n      <td>86.135109</td>\n      <td>2023-09-17 14:03:31.982205</td>\n      <td>2023-09-17 14:32:09.641579</td>\n      <td>0 days 00:28:37.659374</td>\n      <td>8</td>\n      <td>192</td>\n      <td>9</td>\n      <td>13</td>\n      <td>6</td>\n      <td>...</td>\n      <td>0.682121</td>\n      <td>98.523338</td>\n      <td>0.823339</td>\n      <td>52.821899</td>\n      <td>0.717475</td>\n      <td>86.135109</td>\n      <td>86.135109</td>\n      <td>0.046971</td>\n      <td>0.136840</td>\n      <td>COMPLETE</td>\n    </tr>\n    <tr>\n      <th>9</th>\n      <td>9</td>\n      <td>80.905899</td>\n      <td>2023-09-17 14:07:23.199897</td>\n      <td>2023-09-17 14:27:59.399125</td>\n      <td>0 days 00:20:36.199228</td>\n      <td>8</td>\n      <td>192</td>\n      <td>9</td>\n      <td>5</td>\n      <td>6</td>\n      <td>...</td>\n      <td>0.693343</td>\n      <td>94.841377</td>\n      <td>0.835453</td>\n      <td>49.200710</td>\n      <td>0.734501</td>\n      <td>80.905899</td>\n      <td>80.905899</td>\n      <td>0.044339</td>\n      <td>0.125133</td>\n      <td>COMPLETE</td>\n    </tr>\n    <tr>\n      <th>10</th>\n      <td>10</td>\n      <td>88.519356</td>\n      <td>2023-09-17 14:11:07.436150</td>\n      <td>2023-09-17 14:51:15.477120</td>\n      <td>0 days 00:40:08.040970</td>\n      <td>8</td>\n      <td>192</td>\n      <td>9</td>\n      <td>25</td>\n      <td>6</td>\n      <td>...</td>\n      <td>0.668445</td>\n      <td>106.697067</td>\n      <td>0.839467</td>\n      <td>47.999733</td>\n      <td>0.714993</td>\n      <td>88.519356</td>\n      <td>88.519356</td>\n      <td>0.043763</td>\n      <td>0.146009</td>\n      <td>COMPLETE</td>\n    </tr>\n    <tr>\n      <th>11</th>\n      <td>11</td>\n      <td>103.485397</td>\n      <td>2023-09-17 14:27:59.493693</td>\n      <td>2023-09-17 14:47:47.248055</td>\n      <td>0 days 00:19:47.754362</td>\n      <td>8</td>\n      <td>192</td>\n      <td>1</td>\n      <td>1</td>\n      <td>6</td>\n      <td>...</td>\n      <td>0.606370</td>\n      <td>122.474380</td>\n      <td>0.799627</td>\n      <td>59.910999</td>\n      <td>0.661860</td>\n      <td>103.485397</td>\n      <td>103.485397</td>\n      <td>0.059749</td>\n      <td>0.145414</td>\n      <td>COMPLETE</td>\n    </tr>\n    <tr>\n      <th>12</th>\n      <td>12</td>\n      <td>83.861687</td>\n      <td>2023-09-17 14:32:09.743547</td>\n      <td>2023-09-17 14:50:21.671183</td>\n      <td>0 days 00:18:11.927636</td>\n      <td>8</td>\n      <td>192</td>\n      <td>1</td>\n      <td>21</td>\n      <td>6</td>\n      <td>...</td>\n      <td>0.697957</td>\n      <td>94.295349</td>\n      <td>0.823291</td>\n      <td>52.835964</td>\n      <td>0.725750</td>\n      <td>83.861687</td>\n      <td>83.861687</td>\n      <td>0.049712</td>\n      <td>0.112031</td>\n      <td>COMPLETE</td>\n    </tr>\n    <tr>\n      <th>14</th>\n      <td>14</td>\n      <td>72.948631</td>\n      <td>2023-09-17 14:47:52.744607</td>\n      <td>2023-09-17 15:07:59.559782</td>\n      <td>0 days 00:20:06.815175</td>\n      <td>8</td>\n      <td>192</td>\n      <td>1</td>\n      <td>13</td>\n      <td>6</td>\n      <td>...</td>\n      <td>0.735511</td>\n      <td>81.233559</td>\n      <td>0.834515</td>\n      <td>49.480049</td>\n      <td>0.759436</td>\n      <td>72.948631</td>\n      <td>72.948631</td>\n      <td>0.046183</td>\n      <td>0.110377</td>\n      <td>COMPLETE</td>\n    </tr>\n    <tr>\n      <th>15</th>\n      <td>15</td>\n      <td>80.960884</td>\n      <td>2023-09-17 14:50:21.876841</td>\n      <td>2023-09-17 15:08:40.203205</td>\n      <td>0 days 00:18:18.326364</td>\n      <td>8</td>\n      <td>192</td>\n      <td>1</td>\n      <td>17</td>\n      <td>6</td>\n      <td>...</td>\n      <td>0.697324</td>\n      <td>94.990440</td>\n      <td>0.831295</td>\n      <td>50.441921</td>\n      <td>0.736008</td>\n      <td>80.960884</td>\n      <td>80.960884</td>\n      <td>0.048638</td>\n      <td>0.106098</td>\n      <td>COMPLETE</td>\n    </tr>\n    <tr>\n      <th>16</th>\n      <td>16</td>\n      <td>72.241196</td>\n      <td>2023-09-17 14:51:15.592589</td>\n      <td>2023-09-17 15:12:27.637966</td>\n      <td>0 days 00:21:12.045377</td>\n      <td>8</td>\n      <td>192</td>\n      <td>5</td>\n      <td>13</td>\n      <td>6</td>\n      <td>...</td>\n      <td>0.736106</td>\n      <td>80.263878</td>\n      <td>0.845571</td>\n      <td>46.174210</td>\n      <td>0.760618</td>\n      <td>72.241196</td>\n      <td>72.241196</td>\n      <td>0.041408</td>\n      <td>0.112761</td>\n      <td>COMPLETE</td>\n    </tr>\n    <tr>\n      <th>17</th>\n      <td>17</td>\n      <td>76.356560</td>\n      <td>2023-09-17 15:07:59.662669</td>\n      <td>2023-09-17 15:33:15.431887</td>\n      <td>0 days 00:25:15.769218</td>\n      <td>8</td>\n      <td>192</td>\n      <td>5</td>\n      <td>17</td>\n      <td>6</td>\n      <td>...</td>\n      <td>0.709760</td>\n      <td>88.413895</td>\n      <td>0.842503</td>\n      <td>47.091000</td>\n      <td>0.747327</td>\n      <td>76.356560</td>\n      <td>76.356560</td>\n      <td>0.041811</td>\n      <td>0.126805</td>\n      <td>COMPLETE</td>\n    </tr>\n    <tr>\n      <th>18</th>\n      <td>18</td>\n      <td>81.617416</td>\n      <td>2023-09-17 15:08:40.303739</td>\n      <td>2023-09-17 15:28:47.113203</td>\n      <td>0 days 00:20:06.809464</td>\n      <td>8</td>\n      <td>192</td>\n      <td>5</td>\n      <td>9</td>\n      <td>6</td>\n      <td>...</td>\n      <td>0.711657</td>\n      <td>89.507866</td>\n      <td>0.822673</td>\n      <td>53.021114</td>\n      <td>0.732568</td>\n      <td>81.617416</td>\n      <td>81.617416</td>\n      <td>0.048331</td>\n      <td>0.135066</td>\n      <td>COMPLETE</td>\n    </tr>\n    <tr>\n      <th>39</th>\n      <td>39</td>\n      <td>83.758354</td>\n      <td>2023-09-17 15:28:47.220681</td>\n      <td>2023-09-17 15:54:19.830581</td>\n      <td>0 days 00:25:32.609900</td>\n      <td>8</td>\n      <td>192</td>\n      <td>5</td>\n      <td>21</td>\n      <td>6</td>\n      <td>...</td>\n      <td>0.690116</td>\n      <td>96.202995</td>\n      <td>0.834202</td>\n      <td>49.574326</td>\n      <td>0.725558</td>\n      <td>83.758354</td>\n      <td>83.758354</td>\n      <td>0.043608</td>\n      <td>0.124435</td>\n      <td>COMPLETE</td>\n    </tr>\n    <tr>\n      <th>40</th>\n      <td>40</td>\n      <td>70.839279</td>\n      <td>2023-09-17 15:33:15.622512</td>\n      <td>2023-09-17 15:53:04.704498</td>\n      <td>0 days 00:19:49.081986</td>\n      <td>8</td>\n      <td>192</td>\n      <td>1</td>\n      <td>9</td>\n      <td>6</td>\n      <td>...</td>\n      <td>0.738990</td>\n      <td>79.929901</td>\n      <td>0.845022</td>\n      <td>46.338287</td>\n      <td>0.766153</td>\n      <td>70.839279</td>\n      <td>70.839279</td>\n      <td>0.043965</td>\n      <td>0.096618</td>\n      <td>COMPLETE</td>\n    </tr>\n  </tbody>\n</table>\n<p>18 rows × 32 columns</p>\n</div>"
     },
     "execution_count": 45,
     "metadata": {},
     "output_type": "execute_result"
    }
   ],
   "source": [
    "df.dropna(axis=0, how='any', inplace=True) #\n",
    "df"
   ],
   "metadata": {
    "collapsed": false,
    "ExecuteTime": {
     "start_time": "2023-09-20T10:50:09.530295Z",
     "end_time": "2023-09-20T10:50:09.560595Z"
    }
   }
  },
  {
   "cell_type": "code",
   "execution_count": 46,
   "outputs": [
    {
     "name": "stdout",
     "output_type": "stream",
     "text": [
      "[1, 5, 9] [1, 5, 9, 13, 17, 21, 25]\n"
     ]
    }
   ],
   "source": [
    "kernels_x = sorted(df['params_kernel1_x_Time'].unique())\n",
    "kernels_y = sorted(df['params_kernel1_y_Pose'].unique())\n",
    "print(kernels_x, kernels_y)"
   ],
   "metadata": {
    "collapsed": false,
    "ExecuteTime": {
     "start_time": "2023-09-20T10:50:11.536469Z",
     "end_time": "2023-09-20T10:50:11.544267Z"
    }
   }
  },
  {
   "cell_type": "code",
   "execution_count": 47,
   "outputs": [
    {
     "name": "stdout",
     "output_type": "stream",
     "text": [
      "           1          5          9          13         17         21   \n",
      "1  103.485397  79.097565  70.839279  72.948631  80.960884  83.861687  \\\n",
      "5   76.697617  72.201927  81.617416  72.241196   76.35656  83.758354   \n",
      "9   84.194954  80.905899        NaN  86.135109        NaN        NaN   \n",
      "\n",
      "          25  \n",
      "1  71.439735  \n",
      "5  82.625496  \n",
      "9  88.519356  \n"
     ]
    }
   ],
   "source": [
    "# make a dataframe in which row indices will be values of kernels_x, column indices will be values of kernels_y, and values will be the 'values_0' column values from df\n",
    "import numpy as np\n",
    "import pandas as pd\n",
    "\n",
    "df2 = pd.DataFrame(index=kernels_x, columns=kernels_y)\n",
    "\n",
    "for i, x in enumerate(kernels_x):\n",
    "    for y in kernels_y:\n",
    "        possible_value = df[(df['params_kernel1_x_Time'] == x) & (df['params_kernel1_y_Pose'] == y)]['value'].values\n",
    "        if len(possible_value) == 0:\n",
    "            df2.loc[x, y] = np.nan\n",
    "        else:\n",
    "            df2.loc[x, y] = possible_value[0]\n",
    "\n",
    "# round all values to 1 decimal place\n",
    "\n",
    "df2 = df2\n",
    "df2 = df2.round(1)\n",
    "print(df2)"
   ],
   "metadata": {
    "collapsed": false,
    "ExecuteTime": {
     "start_time": "2023-09-20T10:50:12.821270Z",
     "end_time": "2023-09-20T10:50:12.860440Z"
    }
   }
  },
  {
   "cell_type": "code",
   "execution_count": 37,
   "outputs": [
    {
     "name": "stdout",
     "output_type": "stream",
     "text": [
      "\\begin{tabular}{lllllllll}\n",
      "\\toprule\n",
      " & 1 & 5 & 9 & 13 & 17 & 21 & 25 & 29 \\\\\n",
      "\\midrule\n",
      "1 & 30.681492 & 26.485319 & 27.314497 & 26.959152 & 27.830149 & 29.210815 & 29.566969 & 29.953505 \\\\\n",
      "5 & 27.112038 & 25.528404 & 26.755486 & 28.930641 & 31.407854 & 32.523895 & 32.950550 & 32.608944 \\\\\n",
      "9 & 26.587975 & 28.988600 & 28.724384 & 33.908997 & 33.790607 & 30.835844 & 38.132111 & 35.056541 \\\\\n",
      "\\bottomrule\n",
      "\\end{tabular}\n",
      "\n"
     ]
    }
   ],
   "source": [
    "print(df2.to_latex())"
   ],
   "metadata": {
    "collapsed": false,
    "ExecuteTime": {
     "start_time": "2023-09-19T19:41:52.652179Z",
     "end_time": "2023-09-19T19:41:52.660303Z"
    }
   }
  },
  {
   "cell_type": "code",
   "execution_count": 38,
   "outputs": [
    {
     "data": {
      "text/plain": "'|    |       1 |       5 |       9 |      13 |      17 |      21 |      25 |      29 |\\n|---:|--------:|--------:|--------:|--------:|--------:|--------:|--------:|--------:|\\n|  1 | 30.6815 | 26.4853 | 27.3145 | 26.9592 | 27.8301 | 29.2108 | 29.567  | 29.9535 |\\n|  5 | 27.112  | 25.5284 | 26.7555 | 28.9306 | 31.4079 | 32.5239 | 32.9506 | 32.6089 |\\n|  9 | 26.588  | 28.9886 | 28.7244 | 33.909  | 33.7906 | 30.8358 | 38.1321 | 35.0565 |'"
     },
     "execution_count": 38,
     "metadata": {},
     "output_type": "execute_result"
    }
   ],
   "source": [
    "df2.to_markdown()"
   ],
   "metadata": {
    "collapsed": false,
    "ExecuteTime": {
     "start_time": "2023-09-19T19:41:53.435995Z",
     "end_time": "2023-09-19T19:41:53.456893Z"
    }
   }
  },
  {
   "cell_type": "code",
   "execution_count": 48,
   "outputs": [
    {
     "data": {
      "text/plain": "   number      value             datetime_start          datetime_complete   \n3       3  76.697617 2023-09-17 13:27:21.282582 2023-09-17 13:45:26.313155  \\\n\n                duration  params_channels_conv_blocks  params_dimPosEmb   \n3 0 days 00:18:05.030573                            8               192  \\\n\n   params_kernel1_x_Time  params_kernel1_y_Pose  params_num_blocks  ...   \n3                      5                      1                  6  ...  \\\n\n   user_attrs_2022-05-26_2persons_002/auc_pck   \n3                                    0.701835  \\\n\n   user_attrs_2022-05-26_2persons_002/mpjpe   \n3                                 91.909721  \\\n\n   user_attrs_2022-05-26_2persons_003/auc_pck   \n3                                    0.839554  \\\n\n   user_attrs_2022-05-26_2persons_003/mpjpe  user_attrs_auc_pck   \n3                                 47.973972            0.747576  \\\n\n   user_attrs_mpjpe  user_attrs_test_loss_mpjpe  user_attrs_train_loss_mpjpe   \n3         76.697617                   76.697617                      0.04634  \\\n\n   user_attrs_val_loss_mpjpe     state  \n3                   0.106333  COMPLETE  \n\n[1 rows x 32 columns]",
      "text/html": "<div>\n<style scoped>\n    .dataframe tbody tr th:only-of-type {\n        vertical-align: middle;\n    }\n\n    .dataframe tbody tr th {\n        vertical-align: top;\n    }\n\n    .dataframe thead th {\n        text-align: right;\n    }\n</style>\n<table border=\"1\" class=\"dataframe\">\n  <thead>\n    <tr style=\"text-align: right;\">\n      <th></th>\n      <th>number</th>\n      <th>value</th>\n      <th>datetime_start</th>\n      <th>datetime_complete</th>\n      <th>duration</th>\n      <th>params_channels_conv_blocks</th>\n      <th>params_dimPosEmb</th>\n      <th>params_kernel1_x_Time</th>\n      <th>params_kernel1_y_Pose</th>\n      <th>params_num_blocks</th>\n      <th>...</th>\n      <th>user_attrs_2022-05-26_2persons_002/auc_pck</th>\n      <th>user_attrs_2022-05-26_2persons_002/mpjpe</th>\n      <th>user_attrs_2022-05-26_2persons_003/auc_pck</th>\n      <th>user_attrs_2022-05-26_2persons_003/mpjpe</th>\n      <th>user_attrs_auc_pck</th>\n      <th>user_attrs_mpjpe</th>\n      <th>user_attrs_test_loss_mpjpe</th>\n      <th>user_attrs_train_loss_mpjpe</th>\n      <th>user_attrs_val_loss_mpjpe</th>\n      <th>state</th>\n    </tr>\n  </thead>\n  <tbody>\n    <tr>\n      <th>3</th>\n      <td>3</td>\n      <td>76.697617</td>\n      <td>2023-09-17 13:27:21.282582</td>\n      <td>2023-09-17 13:45:26.313155</td>\n      <td>0 days 00:18:05.030573</td>\n      <td>8</td>\n      <td>192</td>\n      <td>5</td>\n      <td>1</td>\n      <td>6</td>\n      <td>...</td>\n      <td>0.701835</td>\n      <td>91.909721</td>\n      <td>0.839554</td>\n      <td>47.973972</td>\n      <td>0.747576</td>\n      <td>76.697617</td>\n      <td>76.697617</td>\n      <td>0.04634</td>\n      <td>0.106333</td>\n      <td>COMPLETE</td>\n    </tr>\n  </tbody>\n</table>\n<p>1 rows × 32 columns</p>\n</div>"
     },
     "execution_count": 48,
     "metadata": {},
     "output_type": "execute_result"
    }
   ],
   "source": [
    "df_best = df[(df['params_channels_conv_blocks'] == 8) & (df['params_dimPosEmb'] == 192) & (df['params_kernel1_x_Time'] == 5) & (df['params_kernel1_y_Pose'] == 1) & (df['params_num_blocks'] == 6)].copy()\n",
    "df_best"
   ],
   "metadata": {
    "collapsed": false,
    "ExecuteTime": {
     "start_time": "2023-09-20T10:50:17.978569Z",
     "end_time": "2023-09-20T10:50:18.031452Z"
    }
   }
  },
  {
   "cell_type": "code",
   "execution_count": 22,
   "outputs": [
    {
     "ename": "KeyError",
     "evalue": "'user_attrs_walking/mpjpe'",
     "output_type": "error",
     "traceback": [
      "\u001B[0;31m---------------------------------------------------------------------------\u001B[0m",
      "\u001B[0;31mKeyError\u001B[0m                                  Traceback (most recent call last)",
      "File \u001B[0;32m/scratch_net/manifoldnet/azhuavlev/conda_envs/pytcu11/lib/python3.10/site-packages/pandas/core/indexes/base.py:3652\u001B[0m, in \u001B[0;36mIndex.get_loc\u001B[0;34m(self, key)\u001B[0m\n\u001B[1;32m   3651\u001B[0m \u001B[38;5;28;01mtry\u001B[39;00m:\n\u001B[0;32m-> 3652\u001B[0m     \u001B[38;5;28;01mreturn\u001B[39;00m \u001B[38;5;28;43mself\u001B[39;49m\u001B[38;5;241;43m.\u001B[39;49m\u001B[43m_engine\u001B[49m\u001B[38;5;241;43m.\u001B[39;49m\u001B[43mget_loc\u001B[49m\u001B[43m(\u001B[49m\u001B[43mcasted_key\u001B[49m\u001B[43m)\u001B[49m\n\u001B[1;32m   3653\u001B[0m \u001B[38;5;28;01mexcept\u001B[39;00m \u001B[38;5;167;01mKeyError\u001B[39;00m \u001B[38;5;28;01mas\u001B[39;00m err:\n",
      "File \u001B[0;32m/scratch_net/manifoldnet/azhuavlev/conda_envs/pytcu11/lib/python3.10/site-packages/pandas/_libs/index.pyx:147\u001B[0m, in \u001B[0;36mpandas._libs.index.IndexEngine.get_loc\u001B[0;34m()\u001B[0m\n",
      "File \u001B[0;32m/scratch_net/manifoldnet/azhuavlev/conda_envs/pytcu11/lib/python3.10/site-packages/pandas/_libs/index.pyx:176\u001B[0m, in \u001B[0;36mpandas._libs.index.IndexEngine.get_loc\u001B[0;34m()\u001B[0m\n",
      "File \u001B[0;32mpandas/_libs/hashtable_class_helper.pxi:7080\u001B[0m, in \u001B[0;36mpandas._libs.hashtable.PyObjectHashTable.get_item\u001B[0;34m()\u001B[0m\n",
      "File \u001B[0;32mpandas/_libs/hashtable_class_helper.pxi:7088\u001B[0m, in \u001B[0;36mpandas._libs.hashtable.PyObjectHashTable.get_item\u001B[0;34m()\u001B[0m\n",
      "\u001B[0;31mKeyError\u001B[0m: 'user_attrs_walking/mpjpe'",
      "\nThe above exception was the direct cause of the following exception:\n",
      "\u001B[0;31mKeyError\u001B[0m                                  Traceback (most recent call last)",
      "Cell \u001B[0;32mIn[22], line 13\u001B[0m\n\u001B[1;32m     11\u001B[0m             df_actions\u001B[38;5;241m.\u001B[39mloc[\u001B[38;5;124m'\u001B[39m\u001B[38;5;124mAverage\u001B[39m\u001B[38;5;124m'\u001B[39m, metric] \u001B[38;5;241m=\u001B[39m \u001B[38;5;28mround\u001B[39m(df_best[\u001B[38;5;124mf\u001B[39m\u001B[38;5;124m'\u001B[39m\u001B[38;5;124muser_attrs_\u001B[39m\u001B[38;5;132;01m{\u001B[39;00mmetric\u001B[38;5;132;01m}\u001B[39;00m\u001B[38;5;124m'\u001B[39m]\u001B[38;5;241m.\u001B[39mvalues[\u001B[38;5;241m0\u001B[39m], \u001B[38;5;241m1\u001B[39m)\n\u001B[1;32m     12\u001B[0m         \u001B[38;5;28;01melse\u001B[39;00m:\n\u001B[0;32m---> 13\u001B[0m             df_actions\u001B[38;5;241m.\u001B[39mloc[action, metric] \u001B[38;5;241m=\u001B[39m \u001B[43mdf_best\u001B[49m\u001B[43m[\u001B[49m\u001B[38;5;124;43mf\u001B[39;49m\u001B[38;5;124;43m'\u001B[39;49m\u001B[38;5;124;43muser_attrs_\u001B[39;49m\u001B[38;5;132;43;01m{\u001B[39;49;00m\u001B[43maction\u001B[49m\u001B[38;5;132;43;01m}\u001B[39;49;00m\u001B[38;5;124;43m/\u001B[39;49m\u001B[38;5;132;43;01m{\u001B[39;49;00m\u001B[43mmetric\u001B[49m\u001B[38;5;132;43;01m}\u001B[39;49;00m\u001B[38;5;124;43m'\u001B[39;49m\u001B[43m]\u001B[49m\u001B[38;5;241m.\u001B[39mvalues[\u001B[38;5;241m0\u001B[39m]\n\u001B[1;32m     15\u001B[0m df_actions\n",
      "File \u001B[0;32m/scratch_net/manifoldnet/azhuavlev/conda_envs/pytcu11/lib/python3.10/site-packages/pandas/core/frame.py:3761\u001B[0m, in \u001B[0;36mDataFrame.__getitem__\u001B[0;34m(self, key)\u001B[0m\n\u001B[1;32m   3759\u001B[0m \u001B[38;5;28;01mif\u001B[39;00m \u001B[38;5;28mself\u001B[39m\u001B[38;5;241m.\u001B[39mcolumns\u001B[38;5;241m.\u001B[39mnlevels \u001B[38;5;241m>\u001B[39m \u001B[38;5;241m1\u001B[39m:\n\u001B[1;32m   3760\u001B[0m     \u001B[38;5;28;01mreturn\u001B[39;00m \u001B[38;5;28mself\u001B[39m\u001B[38;5;241m.\u001B[39m_getitem_multilevel(key)\n\u001B[0;32m-> 3761\u001B[0m indexer \u001B[38;5;241m=\u001B[39m \u001B[38;5;28;43mself\u001B[39;49m\u001B[38;5;241;43m.\u001B[39;49m\u001B[43mcolumns\u001B[49m\u001B[38;5;241;43m.\u001B[39;49m\u001B[43mget_loc\u001B[49m\u001B[43m(\u001B[49m\u001B[43mkey\u001B[49m\u001B[43m)\u001B[49m\n\u001B[1;32m   3762\u001B[0m \u001B[38;5;28;01mif\u001B[39;00m is_integer(indexer):\n\u001B[1;32m   3763\u001B[0m     indexer \u001B[38;5;241m=\u001B[39m [indexer]\n",
      "File \u001B[0;32m/scratch_net/manifoldnet/azhuavlev/conda_envs/pytcu11/lib/python3.10/site-packages/pandas/core/indexes/base.py:3654\u001B[0m, in \u001B[0;36mIndex.get_loc\u001B[0;34m(self, key)\u001B[0m\n\u001B[1;32m   3652\u001B[0m     \u001B[38;5;28;01mreturn\u001B[39;00m \u001B[38;5;28mself\u001B[39m\u001B[38;5;241m.\u001B[39m_engine\u001B[38;5;241m.\u001B[39mget_loc(casted_key)\n\u001B[1;32m   3653\u001B[0m \u001B[38;5;28;01mexcept\u001B[39;00m \u001B[38;5;167;01mKeyError\u001B[39;00m \u001B[38;5;28;01mas\u001B[39;00m err:\n\u001B[0;32m-> 3654\u001B[0m     \u001B[38;5;28;01mraise\u001B[39;00m \u001B[38;5;167;01mKeyError\u001B[39;00m(key) \u001B[38;5;28;01mfrom\u001B[39;00m \u001B[38;5;21;01merr\u001B[39;00m\n\u001B[1;32m   3655\u001B[0m \u001B[38;5;28;01mexcept\u001B[39;00m \u001B[38;5;167;01mTypeError\u001B[39;00m:\n\u001B[1;32m   3656\u001B[0m     \u001B[38;5;66;03m# If we have a listlike key, _check_indexing_error will raise\u001B[39;00m\n\u001B[1;32m   3657\u001B[0m     \u001B[38;5;66;03m#  InvalidIndexError. Otherwise we fall through and re-raise\u001B[39;00m\n\u001B[1;32m   3658\u001B[0m     \u001B[38;5;66;03m#  the TypeError.\u001B[39;00m\n\u001B[1;32m   3659\u001B[0m     \u001B[38;5;28mself\u001B[39m\u001B[38;5;241m.\u001B[39m_check_indexing_error(key)\n",
      "\u001B[0;31mKeyError\u001B[0m: 'user_attrs_walking/mpjpe'"
     ]
    }
   ],
   "source": [
    "actions = [\"walking\", \"eating\", \"smoking\", \"discussion\", \"directions\",\n",
    "                    \"greeting\", \"phoning\", \"posing\", \"purchases\", \"sitting\",\n",
    "                    \"sittingdown\", \"takingphoto\", \"waiting\", \"walkingdog\",\n",
    "                    \"walkingtogether\", '']\n",
    "metrics = ['mpjpe', 'auc_pck', 'joint_angle', 'euler_angle']\n",
    "\n",
    "df_actions = pd.DataFrame(index=actions[:-1], columns=metrics)\n",
    "for action in actions:\n",
    "    for metric in metrics:\n",
    "        if not action:\n",
    "            df_actions.loc['Average', metric] = round(df_best[f'user_attrs_{metric}'].values[0], 1)\n",
    "        else:\n",
    "            df_actions.loc[action, metric] = df_best[f'user_attrs_{action}/{metric}'].values[0]\n",
    "\n",
    "df_actions"
   ],
   "metadata": {
    "collapsed": false,
    "ExecuteTime": {
     "start_time": "2023-09-19T11:04:15.119366Z",
     "end_time": "2023-09-19T11:04:15.231851Z"
    }
   }
  },
  {
   "cell_type": "code",
   "execution_count": 49,
   "outputs": [
    {
     "data": {
      "text/plain": "                              type       mpjpe   auc_pck\n2021-08-04-singlePerson_000  train   43.694481  0.853948\n2021-08-04-singlePerson_001  train   43.276371  0.855274\n2021-08-04-singlePerson_002   test   65.835243  0.780238\n2021-08-04-singlePerson_003  train   50.868824  0.829911\n2022-05-26_2persons_000      train   53.178673  0.822243\n2022-05-26_2persons_001        val  106.333313  0.691662\n2022-05-26_2persons_002       test   91.909721  0.701835\n2022-05-26_2persons_003      train   47.973972  0.839554",
      "text/html": "<div>\n<style scoped>\n    .dataframe tbody tr th:only-of-type {\n        vertical-align: middle;\n    }\n\n    .dataframe tbody tr th {\n        vertical-align: top;\n    }\n\n    .dataframe thead th {\n        text-align: right;\n    }\n</style>\n<table border=\"1\" class=\"dataframe\">\n  <thead>\n    <tr style=\"text-align: right;\">\n      <th></th>\n      <th>type</th>\n      <th>mpjpe</th>\n      <th>auc_pck</th>\n    </tr>\n  </thead>\n  <tbody>\n    <tr>\n      <th>2021-08-04-singlePerson_000</th>\n      <td>train</td>\n      <td>43.694481</td>\n      <td>0.853948</td>\n    </tr>\n    <tr>\n      <th>2021-08-04-singlePerson_001</th>\n      <td>train</td>\n      <td>43.276371</td>\n      <td>0.855274</td>\n    </tr>\n    <tr>\n      <th>2021-08-04-singlePerson_002</th>\n      <td>test</td>\n      <td>65.835243</td>\n      <td>0.780238</td>\n    </tr>\n    <tr>\n      <th>2021-08-04-singlePerson_003</th>\n      <td>train</td>\n      <td>50.868824</td>\n      <td>0.829911</td>\n    </tr>\n    <tr>\n      <th>2022-05-26_2persons_000</th>\n      <td>train</td>\n      <td>53.178673</td>\n      <td>0.822243</td>\n    </tr>\n    <tr>\n      <th>2022-05-26_2persons_001</th>\n      <td>val</td>\n      <td>106.333313</td>\n      <td>0.691662</td>\n    </tr>\n    <tr>\n      <th>2022-05-26_2persons_002</th>\n      <td>test</td>\n      <td>91.909721</td>\n      <td>0.701835</td>\n    </tr>\n    <tr>\n      <th>2022-05-26_2persons_003</th>\n      <td>train</td>\n      <td>47.973972</td>\n      <td>0.839554</td>\n    </tr>\n  </tbody>\n</table>\n</div>"
     },
     "execution_count": 49,
     "metadata": {},
     "output_type": "execute_result"
    }
   ],
   "source": [
    "actions =   [\n",
    "    '2021-08-04-singlePerson_000',\n",
    "    '2021-08-04-singlePerson_001',\n",
    "    '2021-08-04-singlePerson_002',\n",
    "    '2021-08-04-singlePerson_003',\n",
    "    '2022-05-26_2persons_000',\n",
    "    '2022-05-26_2persons_001',\n",
    "    '2022-05-26_2persons_002',\n",
    "    '2022-05-26_2persons_003'\n",
    "]\n",
    "action_type = [\n",
    "    'train',\n",
    "    'train',\n",
    "    'test',\n",
    "    'train',\n",
    "    'train',\n",
    "    'val',\n",
    "    'test',\n",
    "    'train'\n",
    "]\n",
    "metrics = ['mpjpe', 'auc_pck']\n",
    "\n",
    "df_actions = pd.DataFrame(index=actions[:-1], columns=metrics)\n",
    "for action in actions:\n",
    "    for metric in metrics:\n",
    "        if not action:\n",
    "            df_actions.loc['Average', metric] = round(df_best[f'user_attrs_{metric}'].values[0], 1)\n",
    "        else:\n",
    "            df_actions.loc[action, metric] = df_best[f'user_attrs_{action}/{metric}'].values[0]\n",
    "# add column with action type\n",
    "df_actions['type'] = action_type\n",
    "\n",
    "# order columns to be type, mpjpe, auc_pck\n",
    "df_actions = df_actions[['type', 'mpjpe', 'auc_pck']]\n",
    "df_actions"
   ],
   "metadata": {
    "collapsed": false,
    "ExecuteTime": {
     "start_time": "2023-09-20T10:50:21.502181Z",
     "end_time": "2023-09-20T10:50:21.531173Z"
    }
   }
  },
  {
   "cell_type": "code",
   "execution_count": 42,
   "outputs": [
    {
     "name": "stdout",
     "output_type": "stream",
     "text": [
      "\\begin{tabular}{llll}\n",
      "\\toprule\n",
      " & type & mpjpe & auc_pck \\\\\n",
      "\\midrule\n",
      "2021-08-04-singlePerson_000 & train & 20.268465 & 0.932224 \\\\\n",
      "2021-08-04-singlePerson_001 & train & 19.976822 & 0.933186 \\\\\n",
      "2021-08-04-singlePerson_002 & test & 26.942854 & 0.910020 \\\\\n",
      "2021-08-04-singlePerson_003 & train & 20.975073 & 0.929852 \\\\\n",
      "2022-05-26_2persons_000 & train & 22.196779 & 0.925798 \\\\\n",
      "2022-05-26_2persons_001 & val & 30.224169 & 0.899005 \\\\\n",
      "2022-05-26_2persons_002 & test & 27.348969 & 0.908540 \\\\\n",
      "2022-05-26_2persons_003 & train & 16.557066 & 0.944620 \\\\\n",
      "\\bottomrule\n",
      "\\end{tabular}\n",
      "\n"
     ]
    }
   ],
   "source": [
    "print(df_actions.to_latex())"
   ],
   "metadata": {
    "collapsed": false,
    "ExecuteTime": {
     "start_time": "2023-09-19T19:55:50.758311Z",
     "end_time": "2023-09-19T19:55:53.901353Z"
    }
   }
  },
  {
   "cell_type": "code",
   "execution_count": 13,
   "outputs": [
    {
     "name": "stdout",
     "output_type": "stream",
     "text": [
      "Looking in indexes: https://pypi.org/simple, https://pypi.ngc.nvidia.com\r\n",
      "Collecting tabulate\r\n",
      "  Downloading tabulate-0.9.0-py3-none-any.whl (35 kB)\r\n",
      "Installing collected packages: tabulate\r\n",
      "Successfully installed tabulate-0.9.0\r\n"
     ]
    }
   ],
   "source": [
    "!pip install tabulate"
   ],
   "metadata": {
    "collapsed": false,
    "ExecuteTime": {
     "start_time": "2023-09-19T11:05:52.183657Z",
     "end_time": "2023-09-19T11:06:02.289349Z"
    }
   }
  },
  {
   "cell_type": "code",
   "execution_count": 50,
   "outputs": [
    {
     "name": "stdout",
     "output_type": "stream",
     "text": [
      "|                             | type   |    mpjpe |   auc_pck |\n",
      "|:----------------------------|:-------|---------:|----------:|\n",
      "| 2021-08-04-singlePerson_000 | train  |  43.6945 |  0.853948 |\n",
      "| 2021-08-04-singlePerson_001 | train  |  43.2764 |  0.855274 |\n",
      "| 2021-08-04-singlePerson_002 | test   |  65.8352 |  0.780238 |\n",
      "| 2021-08-04-singlePerson_003 | train  |  50.8688 |  0.829911 |\n",
      "| 2022-05-26_2persons_000     | train  |  53.1787 |  0.822243 |\n",
      "| 2022-05-26_2persons_001     | val    | 106.333  |  0.691662 |\n",
      "| 2022-05-26_2persons_002     | test   |  91.9097 |  0.701835 |\n",
      "| 2022-05-26_2persons_003     | train  |  47.974  |  0.839554 |\n"
     ]
    }
   ],
   "source": [
    "print(df_actions.to_markdown())"
   ],
   "metadata": {
    "collapsed": false,
    "ExecuteTime": {
     "start_time": "2023-09-20T10:50:26.391191Z",
     "end_time": "2023-09-20T10:50:26.412638Z"
    }
   }
  },
  {
   "cell_type": "code",
   "execution_count": 10,
   "outputs": [],
   "source": [
    "import os\n",
    "import os\n",
    "import shutil\n",
    "\n",
    "copy_folder = f'/home/azhuavlev/Desktop/Results/CUDA_lab/Final_project/studies_db'\n",
    "os.makedirs(copy_folder, exist_ok=True)\n",
    "\n",
    "for study_folder in os.listdir(base_folder):\n",
    "    study_db = f'{base_folder}/{study_folder}/results.db'\n",
    "    if os.path.exists(study_db):\n",
    "        # os.mkdirs(f'{copy_folder}/{folder}', exist_ok=True)\n",
    "        shutil.copyfile(study_db, f'{copy_folder}/{study_folder}.db')"
   ],
   "metadata": {
    "collapsed": false
   }
  },
  {
   "cell_type": "code",
   "execution_count": null,
   "outputs": [],
   "source": [],
   "metadata": {
    "collapsed": false
   }
  },
  {
   "cell_type": "code",
   "execution_count": 51,
   "outputs": [
    {
     "data": {
      "text/plain": "[3, 4, 5]"
     },
     "execution_count": 51,
     "metadata": {},
     "output_type": "execute_result"
    }
   ],
   "source": [
    "l = [1, 2, 3, 4, 5]\n",
    "l[-3:]"
   ],
   "metadata": {
    "collapsed": false,
    "ExecuteTime": {
     "start_time": "2023-09-20T19:59:48.512760Z",
     "end_time": "2023-09-20T19:59:48.587609Z"
    }
   }
  },
  {
   "cell_type": "code",
   "execution_count": null,
   "outputs": [],
   "source": [],
   "metadata": {
    "collapsed": false
   }
  }
 ],
 "metadata": {
  "kernelspec": {
   "display_name": "Python 3",
   "language": "python",
   "name": "python3"
  },
  "language_info": {
   "codemirror_mode": {
    "name": "ipython",
    "version": 2
   },
   "file_extension": ".py",
   "mimetype": "text/x-python",
   "name": "python",
   "nbconvert_exporter": "python",
   "pygments_lexer": "ipython2",
   "version": "2.7.6"
  }
 },
 "nbformat": 4,
 "nbformat_minor": 0
}
