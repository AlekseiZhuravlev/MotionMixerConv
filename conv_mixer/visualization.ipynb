{
 "cells": [
  {
   "cell_type": "markdown",
   "source": [
    "# Visualization of the data\n",
    "## H3.6m dataset"
   ],
   "metadata": {
    "collapsed": false
   }
  },
  {
   "cell_type": "markdown",
   "source": [
    "The dataset contains 17 scenarios:"
   ],
   "metadata": {
    "collapsed": false
   }
  },
  {
   "cell_type": "code",
   "execution_count": 4,
   "outputs": [],
   "source": [
    "scenarios = [\"walking\", \"eating\", \"smoking\", \"discussion\", \"directions\",\n",
    "                    \"greeting\", \"phoning\", \"posing\", \"purchases\", \"sitting\",\n",
    "                    \"sittingdown\", \"takingphoto\", \"waiting\", \"walkingdog\",\n",
    "                    \"walkingtogether\"]"
   ],
   "metadata": {
    "collapsed": false,
    "ExecuteTime": {
     "start_time": "2023-08-18T12:53:14.136002Z",
     "end_time": "2023-08-18T12:53:14.243810Z"
    }
   }
  },
  {
   "cell_type": "markdown",
   "source": [
    "The actions are performed by several subjects (human actors), each of them is identified by a number:"
   ],
   "metadata": {
    "collapsed": false
   }
  },
  {
   "cell_type": "code",
   "execution_count": 5,
   "outputs": [],
   "source": [
    "subs = [\n",
    "    [1, 6, 7, 8, 9], # train\n",
    "    [11], # validation\n",
    "    [5] # test\n",
    "]"
   ],
   "metadata": {
    "collapsed": false,
    "ExecuteTime": {
     "start_time": "2023-08-18T12:53:14.142413Z",
     "end_time": "2023-08-18T12:53:14.245829Z"
    }
   }
  },
  {
   "cell_type": "markdown",
   "source": [
    "The original dataset is captured at 50Hz (1 / 20ms). We will apply a downsampling factor of 2 -> 25Hz (1 / 40ms).\n",
    "10 frames are used as seed frames, and the model is trained to predict the next 10 frames. (400ms seed, 400ms prediction)\n"
   ],
   "metadata": {
    "collapsed": false
   }
  },
  {
   "cell_type": "markdown",
   "source": [
    "## Joint xyz coordinate format"
   ],
   "metadata": {
    "collapsed": false
   }
  },
  {
   "cell_type": "markdown",
   "source": [
    "33 joints are tracked for each frame of the sequence. The joints are identified by a number:"
   ],
   "metadata": {
    "collapsed": false
   }
  },
  {
   "cell_type": "code",
   "execution_count": 6,
   "outputs": [],
   "source": [
    "joint_name_h3m = [\n",
    "    \"Hips\", \"RightUpLeg\", \"RightLeg\", \"RightFoot\", \"RightToeBase\", \"Site\", \"LeftUpLeg\", \"LeftLeg\", \"LeftFoot\",\n",
    "    \"LeftToeBase\", \"Site\", \"Spine\", \"Spine1\", \"Neck\", \"Head\", \"Site\", \"LeftShoulder\", \"LeftArm\", \"LeftForeArm\",\n",
    "    \"LeftHand\", \"LeftHandThumb\", \"Site\", \"L_Wrist_End\", \"Site\", \"RightShoulder\", \"RightArm\", \"RightForeArm\",\n",
    "    \"RightHand\", \"RightHandThumb\", \"Site\", \"R_Wrist_End\", \"Site\"\n",
    "]"
   ],
   "metadata": {
    "collapsed": false,
    "ExecuteTime": {
     "start_time": "2023-08-18T12:53:14.162003Z",
     "end_time": "2023-08-18T12:53:14.245923Z"
    }
   }
  },
  {
   "cell_type": "markdown",
   "source": [
    "Several joints are constant or are at same position with other joints, and will be ignored:"
   ],
   "metadata": {
    "collapsed": false
   }
  },
  {
   "cell_type": "code",
   "execution_count": 7,
   "outputs": [
    {
     "name": "stdout",
     "output_type": "stream",
     "text": [
      "joints to be ignored: ['Hips' 'RightUpLeg' 'LeftUpLeg' 'Spine' 'LeftShoulder' 'LeftHandThumb'\n",
      " 'Site' 'RightShoulder' 'RightHandThumb' 'Site']\n",
      "number of joints left: 22\n"
     ]
    }
   ],
   "source": [
    "import numpy as np\n",
    "\n",
    "joint_to_ignore = np.array([0, 1, 6, 11, 16, 20, 23, 24, 28, 31])\n",
    "\n",
    "print('joints to be ignored:', np.array(joint_name_h3m)[joint_to_ignore])\n",
    "print('number of joints left:', len(joint_name_h3m) - len(joint_to_ignore))"
   ],
   "metadata": {
    "collapsed": false,
    "ExecuteTime": {
     "start_time": "2023-08-18T12:53:14.173589Z",
     "end_time": "2023-08-18T12:53:14.334039Z"
    }
   }
  },
  {
   "cell_type": "markdown",
   "source": [
    "The raw data is provided in the axis-angle format. The xyz coordinates are obtained by an exponential map, then the global rotation and translation are removed (local movement)."
   ],
   "metadata": {
    "collapsed": false
   }
  },
  {
   "cell_type": "code",
   "execution_count": 8,
   "outputs": [],
   "source": [
    "import sys\n",
    "sys.path.append('/home/azhuavlev/PycharmProjects/MotionMixerConv')\n",
    "from h36m.datasets import dataset_h36m, dataset_h36m_ang\n",
    "%load_ext autoreload\n",
    "%autoreload 2\n",
    "\n",
    "dataset_xyz = dataset_h36m.H36M_Dataset(\n",
    "    data_dir='/home/azhuavlev/Desktop/Data/CUDA_lab/VisionLabSS23_3DPoses',\n",
    "    input_n=100,\n",
    "    output_n=100,\n",
    "    skip_rate=2,\n",
    "    split=0\n",
    ")"
   ],
   "metadata": {
    "collapsed": false,
    "ExecuteTime": {
     "start_time": "2023-08-18T12:53:14.333773Z",
     "end_time": "2023-08-18T12:53:43.880904Z"
    }
   }
  },
  {
   "cell_type": "markdown",
   "source": [
    "Example preprocessed batch, joint coordinates are im millimeters (mm):\n",
    "_Important note_: h3.6m uses OpenCV coordinate system, which has different coordinate axes orientation:\n",
    "Matplotlib: x right, y forward, z up\n",
    "Opencv: x right, y down, z forward\n",
    "To convert between them, we need to swap y and z axes, and negate y axis.\n",
    "This does *not* affect the *training*, but is relevant for visualization."
   ],
   "metadata": {
    "collapsed": false
   }
  },
  {
   "cell_type": "code",
   "execution_count": 9,
   "outputs": [
    {
     "name": "stdout",
     "output_type": "stream",
     "text": [
      "[[ -71.22052  -419.46445   128.04242  ... -233.02156  -241.97878\n",
      "    66.888115]\n",
      " [ -70.48413  -419.0326    129.09505  ... -236.51244  -242.83264\n",
      "    67.11383 ]\n",
      " [ -69.48038  -418.509     130.29828  ... -239.31981  -242.51956\n",
      "    69.43913 ]\n",
      " ...\n",
      " [-118.77522  -373.72687   237.24037  ... -275.61002  -238.96727\n",
      "    23.281116]\n",
      " [-111.79299  -370.53876   241.67976  ... -271.5594   -236.72733\n",
      "    39.22251 ]\n",
      " [ -98.78412  -369.84366   241.25525  ... -268.8989   -233.02702\n",
      "    52.89633 ]]\n",
      "batch.shape (200, 66)\n"
     ]
    }
   ],
   "source": [
    "batch = dataset_xyz[0][:, dataset_xyz.dimensions_to_use]\n",
    "\n",
    "print(batch)\n",
    "print('batch.shape', batch.shape)"
   ],
   "metadata": {
    "collapsed": false,
    "ExecuteTime": {
     "start_time": "2023-08-18T12:53:43.883886Z",
     "end_time": "2023-08-18T12:53:43.913881Z"
    }
   }
  },
  {
   "cell_type": "code",
   "execution_count": 10,
   "outputs": [],
   "source": [
    "import conv_mixer.visualization_helpers\n",
    "\n",
    "conv_mixer.visualization_helpers.visualize_batch(dataset_xyz[100])"
   ],
   "metadata": {
    "collapsed": false,
    "ExecuteTime": {
     "start_time": "2023-08-18T12:53:43.915137Z",
     "end_time": "2023-08-18T12:54:35.602053Z"
    }
   }
  },
  {
   "cell_type": "code",
   "execution_count": 11,
   "outputs": [
    {
     "data": {
      "text/plain": "<IPython.core.display.Video object>",
      "text/html": "<video src=\"/home/azhuavlev/PycharmProjects/MotionMixerConv/conv_mixer/animation.mp4\" controls  >\n      Your browser does not support the <code>video</code> element.\n    </video>"
     },
     "execution_count": 11,
     "metadata": {},
     "output_type": "execute_result"
    }
   ],
   "source": [
    "from IPython.display import Video\n",
    "\n",
    "Video(\"/home/azhuavlev/PycharmProjects/MotionMixerConv/conv_mixer/animation.mp4\")"
   ],
   "metadata": {
    "collapsed": false,
    "ExecuteTime": {
     "start_time": "2023-08-18T12:54:35.604391Z",
     "end_time": "2023-08-18T12:54:36.034644Z"
    }
   }
  },
  {
   "cell_type": "markdown",
   "source": [
    "Animation"
   ],
   "metadata": {
    "collapsed": false
   }
  },
  {
   "cell_type": "markdown",
   "source": [
    "## Axis-angle format"
   ],
   "metadata": {
    "collapsed": false
   }
  },
  {
   "cell_type": "markdown",
   "source": [
    "The second possible format is axis-angle. Again, the global rotation and translation are removed (local movement), but we use less joints than in the xyz format. Train/validation/test splits and the number of sequences are the same."
   ],
   "metadata": {
    "collapsed": false
   }
  },
  {
   "cell_type": "code",
   "execution_count": 12,
   "outputs": [
    {
     "name": "stdout",
     "output_type": "stream",
     "text": [
      "number of joints to use: 16\n",
      "number of joints to ignore: 17\n"
     ]
    }
   ],
   "source": [
    "dimensions_to_use_angle = np.array(\n",
    "            [6, 7, 8, 9, 12, 13, 14, 15, 21, 22, 23, 24, 27, 28, 29, 30, 36, 37, 38, 39, 40, 41, 42,\n",
    "             43, 44, 45, 46, 47, 51, 52, 53, 54, 55, 56, 57, 60, 61, 62, 75, 76, 77, 78, 79, 80, 81, 84, 85, 86])\n",
    "dimensions_to_ignore_angle = np.array(\n",
    "            [0, 1, 2, 3, 4, 5, 10, 11, 16, 17, 18, 19, 20, 25, 26, 31, 32, 33, 34, 35, 48, 49, 50, 58,\n",
    "              59, 63, 64, 65, 66, 67, 68, 69, 70, 71, 72, 73, 74, 82, 83, 87, 88, 89, 90, 91, 92, 93, 94, 95, 96, 97,\n",
    "              98])\n",
    "print('number of joints to use:', len(dimensions_to_use_angle) // 3)\n",
    "print('number of joints to ignore:', len(dimensions_to_ignore_angle) //3)"
   ],
   "metadata": {
    "collapsed": false,
    "ExecuteTime": {
     "start_time": "2023-08-18T12:54:36.041370Z",
     "end_time": "2023-08-18T12:54:36.069497Z"
    }
   }
  },
  {
   "cell_type": "code",
   "execution_count": 13,
   "outputs": [],
   "source": [
    "dataset_angle = dataset_h36m_ang.H36M_Dataset_Angle(\n",
    "    data_dir='/home/azhuavlev/Desktop/Data/CUDA_lab/VisionLabSS23_3DPoses',\n",
    "    input_n=100,\n",
    "    output_n=100,\n",
    "    skip_rate=2,\n",
    "    split=0\n",
    ")"
   ],
   "metadata": {
    "collapsed": false,
    "ExecuteTime": {
     "start_time": "2023-08-18T12:54:36.071825Z",
     "end_time": "2023-08-18T12:54:58.335873Z"
    }
   }
  },
  {
   "cell_type": "code",
   "execution_count": 14,
   "outputs": [
    {
     "name": "stdout",
     "output_type": "stream",
     "text": [
      "[[ 0.3230213 -0.4831149 -0.0673216 ...  0.1473034 -0.1267874 -0.0072563]\n",
      " [ 0.3259532 -0.4838686 -0.0682784 ...  0.1349617 -0.0768555  0.0021032]\n",
      " [ 0.3294488 -0.4855806 -0.0695968 ...  0.1272881 -0.0470906  0.0103329]\n",
      " ...\n",
      " [ 0.5543316 -0.6687866  0.1618684 ...  0.1438099  0.2838625 -0.0268883]\n",
      " [ 0.5716785 -0.6677975  0.1498878 ...  0.1313288  0.2131509  0.0040503]\n",
      " [ 0.5799299 -0.7250111  0.1374053 ...  0.1095381  0.1248537  0.0352608]]\n",
      "batch_angle.shape (200, 48)\n"
     ]
    }
   ],
   "source": [
    "batch_angle = dataset_angle[0][:, dimensions_to_use_angle]\n",
    "\n",
    "print(batch_angle)\n",
    "print('batch_angle.shape', batch_angle.shape)"
   ],
   "metadata": {
    "collapsed": false,
    "ExecuteTime": {
     "start_time": "2023-08-18T12:54:58.338935Z",
     "end_time": "2023-08-18T12:54:58.369624Z"
    }
   }
  },
  {
   "cell_type": "markdown",
   "source": [
    "## Dataset captured in AIS lab"
   ],
   "metadata": {
    "collapsed": false
   }
  },
  {
   "cell_type": "markdown",
   "source": [
    "The dataset captures 27 keypoints, of which only 19 are used. The data is provided in both xyz and axis-angle formats."
   ],
   "metadata": {
    "collapsed": false
   }
  },
  {
   "cell_type": "code",
   "execution_count": 15,
   "outputs": [],
   "source": [
    "joints_ais = [\n",
    "    \"Nose\", \"Neck\", \"RShoulder\", \"RElbow\", \"RWrist\", \"LShoulder\", \"LElbow\", \"LWrist\", \"MidHip\", \"RHip\", \"RKnee\",\n",
    "    \"RAnkle\", \"LHip\", \"LKnee\", \"LAnkle\", \"REye\", \"LEye\", \"REar\", \"LEar\"\n",
    "]\n",
    "joints_ais_unused = [\n",
    "    \"Head\", \"Belly\", \"LBToe\", \"LSToe\", \"LHeel\", \"RBToe\", \"RSToe\", \"RHeel\"\n",
    "]"
   ],
   "metadata": {
    "collapsed": false,
    "ExecuteTime": {
     "start_time": "2023-08-18T12:54:58.374015Z",
     "end_time": "2023-08-18T12:54:58.427395Z"
    }
   }
  },
  {
   "cell_type": "markdown",
   "source": [
    "Input data format is JSON:"
   ],
   "metadata": {
    "collapsed": false
   }
  },
  {
   "cell_type": "code",
   "execution_count": 16,
   "outputs": [
    {
     "data": {
      "text/plain": "{'person': {'id': 0,\n  'keypoints': [{'score': 3.3462276458740234,\n    'pos': [-1.579332303842465, 5.254447240387596, 1.2453899554859404],\n    'cov': [0.00028858751417853756,\n     -0.00014108748570844474,\n     9.386520816399225e-06,\n     0.0012445461087687588,\n     -0.0002077309460947308,\n     0.00025123770636866134]},\n   {'score': 3.274890422821045,\n    'pos': [-1.7620567804996792, 5.196654735460632, 1.151986997896067],\n    'cov': [0.00032619814049870385,\n     -7.571728627751091e-05,\n     -4.00886181359144e-05,\n     0.0012121363450275273,\n     -0.00016404690033416244,\n     0.0002938258459040899]},\n   {'score': 3.375589370727539,\n    'pos': [-1.7444305881173088, 5.027870621563488, 1.1721438539347928],\n    'cov': [0.00036299911969710067,\n     2.28605071073364e-05,\n     -1.257242842117757e-05,\n     0.0010447354654037578,\n     -0.00017273569573031017,\n     0.0002983953391122013]},\n   {'score': 2.9807207584381104,\n    'pos': [-1.719707743077619, 4.746816760720528, 1.072827687136427],\n    'cov': [0.0010421235114237964,\n     -3.48475186868719e-05,\n     8.689808492420336e-05,\n     0.00173405235181929,\n     -0.0003287000003014182,\n     0.0011235812048317974]},\n   {'score': 2.7727129459381104,\n    'pos': [-1.529357961752428, 4.849908000204323, 0.9768279966480169],\n    'cov': [0.0004562161064166612,\n     -7.855353677207415e-05,\n     0.000125380737049918,\n     0.0023149069990906572,\n     -0.0003984609764210123,\n     0.0009940345322578524]},\n   {'score': 3.174191474914551,\n    'pos': [-1.797890840347341, 5.352009311406831, 1.1218060248028578],\n    'cov': [0.000467279710150501,\n     6.418358046191037e-06,\n     -1.0969133542155117e-05,\n     0.0017837486756064988,\n     -0.00023082093030058577,\n     0.00033347258863495753]},\n   {'score': 1.2781665325164795,\n    'pos': [-1.6931196112567282, 5.168989477004733, 0.9481511061419844],\n    'cov': [0.0014463903406102207,\n     -0.0006093792359096648,\n     0.0004906945501572971,\n     0.004429643872934433,\n     -0.0013648216833027716,\n     0.0013254126390840704]},\n   {'score': 0.9513300061225891,\n    'pos': [-1.5514161908105386, 5.310027772739884, 0.8107266871578916],\n    'cov': [0.0055739672401751445,\n     -0.005769249732804582,\n     0.00035900820380654804,\n     0.016567919682649656,\n     -0.00039574726281906746,\n     0.002589762859906352]},\n   {'score': 2.755437135696411,\n    'pos': [-1.9563178955354195, 5.116513605797563, 0.7692090905845776],\n    'cov': [0.0017285393604773859,\n     -7.094123042189456e-05,\n     8.583695151333839e-06,\n     0.00401403111311904,\n     -0.000549001394726412,\n     0.0017303285656328675]},\n   {'score': 2.902348279953003,\n    'pos': [-1.9534681643672396, 4.980946611550488, 0.801134938645552],\n    'cov': [0.0013994007088863705,\n     1.3930593336087954e-06,\n     1.2799489360051724e-05,\n     0.0008501004607230524,\n     7.457991330401556e-05,\n     0.0009239963195350328]},\n   {'score': 3.147570848464966,\n    'pos': [-1.9274806414706345, 4.959641127672141, 0.3724855349911074],\n    'cov': [0.0008139847940929373,\n     -0.00012683819275780163,\n     5.4366871601672124e-05,\n     0.002905415660224398,\n     -0.0004700125638650606,\n     0.0006187780106246321]},\n   {'score': 3.1080782413482666,\n    'pos': [-1.91070734071909, 4.952004630641271, -0.055406369129406774],\n    'cov': [0.0007945418833647689,\n     -0.00033976290502852897,\n     0.000117550527443666,\n     0.0036596781879115778,\n     -0.0006238058484492381,\n     0.0008030374930741676]},\n   {'score': 2.6085259914398193,\n    'pos': [-1.9598466413194118, 5.252816088433898, 0.7493738690632293],\n    'cov': [0.002048788077510389,\n     2.2120207021316836e-05,\n     -3.3353188286586325e-05,\n     0.0008442350108043293,\n     -6.347229487911514e-05,\n     0.0014145421372253693]},\n   {'score': 2.5217339992523193,\n    'pos': [-1.9791967010957074, 5.019572903731843, 0.370978411860175],\n    'cov': [0.001039816558618824,\n     0.0010858090800600108,\n     -0.00030239859793314175,\n     0.006783613698824435,\n     -0.0015059378112795433,\n     0.0007286988540421939]},\n   {'score': 2.512741804122925,\n    'pos': [-1.9513056984641985, 5.0796469782059495, -0.059553434352834],\n    'cov': [0.0011480756110829836,\n     0.0006649552069833278,\n     -1.9811625815178315e-05,\n     0.008864385912599504,\n     -0.00076138499579777,\n     0.000880396994168801]},\n   {'score': 3.4472599029541016,\n    'pos': [-1.5949945287587224, 5.228665537921258, 1.2870984736041167],\n    'cov': [0.0003574766994814983,\n     -0.00012389788243195624,\n     1.587862858461985e-05,\n     0.0014446966261347002,\n     -0.00010763702464687574,\n     0.00028018190040230475]},\n   {'score': 3.2054927349090576,\n    'pos': [-1.5801174006246026, 5.2977816265889395, 1.278892916531838],\n    'cov': [0.0003498369668584037,\n     6.639197179810342e-06,\n     -1.008655799791679e-05,\n     0.0014391870392905619,\n     -0.0002818344932024673,\n     0.0003092836045480366]},\n   {'score': 3.5586230754852295,\n    'pos': [-1.6756380733266911, 5.170424909408331, 1.3017248165847097],\n    'cov': [0.00028633613956515483,\n     -7.599210627651566e-05,\n     -1.2303007938319876e-05,\n     0.0016110358081473123,\n     -0.00017508422800954917,\n     0.0002501742244144864]},\n   {'score': 2.8999226093292236,\n    'pos': [-1.673865565869623, 5.360873951756278, 1.2740586899282111],\n    'cov': [0.0035687963219729847,\n     0.002450885234615643,\n     -0.0002693159706774396,\n     0.006344445400870009,\n     -0.00023117254932698172,\n     0.005661662804450345]},\n   {'score': 0.0,\n    'pos': [0.0, 0.0, 0.0],\n    'cov': [0.0, 0.0, 0.0, 0.0, 0.0, 0.0]},\n   {'score': 0.0,\n    'pos': [0.0, 0.0, 0.0],\n    'cov': [0.0, 0.0, 0.0, 0.0, 0.0, 0.0]}]},\n 'timestamp_ns': 0}"
     },
     "execution_count": 16,
     "metadata": {},
     "output_type": "execute_result"
    }
   ],
   "source": [
    "import json\n",
    "\n",
    "in_file_name = \"/home/azhuavlev/Desktop/Data/CUDA_lab/VisionLabSS23_3DPoses/2021-08-04-singlePerson_000.json\"\n",
    "with open(in_file_name, 'r') as f:\n",
    "    pose_data = json.load(f)\n",
    "pose_data[0]"
   ],
   "metadata": {
    "collapsed": false,
    "ExecuteTime": {
     "start_time": "2023-08-18T12:54:58.402895Z",
     "end_time": "2023-08-18T12:54:59.469817Z"
    }
   }
  },
  {
   "cell_type": "markdown",
   "source": [
    "Some joints have score of 0, they need to be ignored"
   ],
   "metadata": {
    "collapsed": false
   }
  },
  {
   "cell_type": "code",
   "execution_count": 17,
   "outputs": [
    {
     "data": {
      "text/plain": "{'score': 0.0, 'pos': [0.0, 0.0, 0.0], 'cov': [0.0, 0.0, 0.0, 0.0, 0.0, 0.0]}"
     },
     "execution_count": 17,
     "metadata": {},
     "output_type": "execute_result"
    }
   ],
   "source": [
    "pose_data[0]['person']['keypoints'][-1]"
   ],
   "metadata": {
    "collapsed": false,
    "ExecuteTime": {
     "start_time": "2023-08-18T12:54:59.466066Z",
     "end_time": "2023-08-18T12:54:59.523686Z"
    }
   }
  },
  {
   "cell_type": "code",
   "execution_count": 18,
   "outputs": [
    {
     "name": "stderr",
     "output_type": "stream",
     "text": [
      "/home/azhuavlev/PycharmProjects/MotionMixerConv/conv_mixer/visualize_ais_data.py:58: MatplotlibDeprecationWarning: Calling gca() with keyword arguments was deprecated in Matplotlib 3.4. Starting two minor releases later, gca() will take no keyword arguments. The gca() function should only be used to get the current axes, or if no axes exist, create new axes with default keyword arguments. To create a new axes with non-default arguments, use plt.axes() or plt.subplot().\n",
      "  ax = fig.gca(projection='3d')\n",
      "100%|███████████████████████████████████████████████████████████████████████████████████████████████████████████████████████████████████████████████████| 200/200 [00:27<00:00,  7.31it/s]\n"
     ]
    }
   ],
   "source": [
    "import conv_mixer.visualize_ais_data\n",
    "\n",
    "conv_mixer.visualize_ais_data.visualize_ais_data(\n",
    "    in_file_name,\n",
    "    frame_start=0,\n",
    "    frame_end=1000,\n",
    "    frame_step=5\n",
    ")"
   ],
   "metadata": {
    "collapsed": false,
    "ExecuteTime": {
     "start_time": "2023-08-18T12:54:59.494587Z",
     "end_time": "2023-08-18T12:56:28.475695Z"
    }
   }
  },
  {
   "cell_type": "code",
   "execution_count": 19,
   "outputs": [
    {
     "data": {
      "text/plain": "<IPython.core.display.Video object>",
      "text/html": "<video src=\"/home/azhuavlev/PycharmProjects/MotionMixerConv/conv_mixer/animation_ais.mp4\" controls  >\n      Your browser does not support the <code>video</code> element.\n    </video>"
     },
     "execution_count": 19,
     "metadata": {},
     "output_type": "execute_result"
    }
   ],
   "source": [
    "Video(\"/home/azhuavlev/PycharmProjects/MotionMixerConv/conv_mixer/animation_ais.mp4\")"
   ],
   "metadata": {
    "collapsed": false,
    "ExecuteTime": {
     "start_time": "2023-08-18T12:56:28.480422Z",
     "end_time": "2023-08-18T12:56:28.901830Z"
    }
   }
  },
  {
   "cell_type": "code",
   "execution_count": 19,
   "outputs": [],
   "source": [],
   "metadata": {
    "collapsed": false,
    "ExecuteTime": {
     "start_time": "2023-08-18T12:56:28.903847Z",
     "end_time": "2023-08-18T12:56:28.909002Z"
    }
   }
  }
 ],
 "metadata": {
  "kernelspec": {
   "display_name": "Python 3",
   "language": "python",
   "name": "python3"
  },
  "language_info": {
   "codemirror_mode": {
    "name": "ipython",
    "version": 2
   },
   "file_extension": ".py",
   "mimetype": "text/x-python",
   "name": "python",
   "nbconvert_exporter": "python",
   "pygments_lexer": "ipython2",
   "version": "2.7.6"
  }
 },
 "nbformat": 4,
 "nbformat_minor": 0
}
