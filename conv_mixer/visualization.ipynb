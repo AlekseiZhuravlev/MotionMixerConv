{
 "cells": [
  {
   "cell_type": "markdown",
   "source": [
    "# Visualization of the data\n",
    "## H3.6m dataset"
   ],
   "metadata": {
    "collapsed": false
   }
  },
  {
   "cell_type": "markdown",
   "source": [
    "The dataset contains 17 scenarios:"
   ],
   "metadata": {
    "collapsed": false
   }
  },
  {
   "cell_type": "code",
   "execution_count": null,
   "outputs": [],
   "source": [
    "scenarios = [\"walking\", \"eating\", \"smoking\", \"discussion\", \"directions\",\n",
    "                    \"greeting\", \"phoning\", \"posing\", \"purchases\", \"sitting\",\n",
    "                    \"sittingdown\", \"takingphoto\", \"waiting\", \"walkingdog\",\n",
    "                    \"walkingtogether\"]"
   ],
   "metadata": {
    "collapsed": false,
    "ExecuteTime": {
     "start_time": "2023-08-18T11:39:25.906939Z",
     "end_time": "2023-08-18T11:39:25.910974Z"
    }
   }
  },
  {
   "cell_type": "markdown",
   "source": [
    "The actions are performed by several subjects (human actors), each of them is identified by a number:"
   ],
   "metadata": {
    "collapsed": false
   }
  },
  {
   "cell_type": "code",
   "execution_count": null,
   "outputs": [],
   "source": [
    "subs = [\n",
    "    [1, 6, 7, 8, 9], # train\n",
    "    [11], # validation\n",
    "    [5] # test\n",
    "]"
   ],
   "metadata": {
    "collapsed": false,
    "ExecuteTime": {
     "start_time": "2023-08-18T11:39:27.596620Z",
     "end_time": "2023-08-18T11:39:27.599605Z"
    }
   }
  },
  {
   "cell_type": "markdown",
   "source": [
    "The original dataset is captured at 50Hz (1 / 20ms). We will apply a downsampling factor of 2 -> 25Hz (1 / 40ms).\n",
    "10 frames are used as seed frames, and the model is trained to predict the next 10 frames. (400ms seed, 400ms prediction)\n"
   ],
   "metadata": {
    "collapsed": false
   }
  },
  {
   "cell_type": "markdown",
   "source": [
    "## Joint xyz coordinate format"
   ],
   "metadata": {
    "collapsed": false
   }
  },
  {
   "cell_type": "markdown",
   "source": [
    "33 joints are tracked for each frame of the sequence. The joints are identified by a number:"
   ],
   "metadata": {
    "collapsed": false
   }
  },
  {
   "cell_type": "code",
   "execution_count": null,
   "outputs": [],
   "source": [
    "joint_name_h3m = [\n",
    "    \"Hips\", \"RightUpLeg\", \"RightLeg\", \"RightFoot\", \"RightToeBase\", \"Site\", \"LeftUpLeg\", \"LeftLeg\", \"LeftFoot\",\n",
    "    \"LeftToeBase\", \"Site\", \"Spine\", \"Spine1\", \"Neck\", \"Head\", \"Site\", \"LeftShoulder\", \"LeftArm\", \"LeftForeArm\",\n",
    "    \"LeftHand\", \"LeftHandThumb\", \"Site\", \"L_Wrist_End\", \"Site\", \"RightShoulder\", \"RightArm\", \"RightForeArm\",\n",
    "    \"RightHand\", \"RightHandThumb\", \"Site\", \"R_Wrist_End\", \"Site\"\n",
    "]"
   ],
   "metadata": {
    "collapsed": false,
    "ExecuteTime": {
     "start_time": "2023-08-18T11:39:30.391785Z",
     "end_time": "2023-08-18T11:39:30.398247Z"
    }
   }
  },
  {
   "cell_type": "markdown",
   "source": [
    "Several joints are constant or are at same position with other joints, and will be ignored:"
   ],
   "metadata": {
    "collapsed": false
   }
  },
  {
   "cell_type": "code",
   "execution_count": null,
   "outputs": [],
   "source": [
    "import numpy as np\n",
    "\n",
    "joint_to_ignore = np.array([0, 1, 6, 11, 16, 20, 23, 24, 28, 31])\n",
    "\n",
    "print('joints to be ignored:', np.array(joint_name_h3m)[joint_to_ignore])\n",
    "print('number of joints left:', len(joint_name_h3m) - len(joint_to_ignore))"
   ],
   "metadata": {
    "collapsed": false,
    "ExecuteTime": {
     "start_time": "2023-08-18T11:52:14.656947Z",
     "end_time": "2023-08-18T11:52:15.229898Z"
    }
   }
  },
  {
   "cell_type": "markdown",
   "source": [
    "The raw data is provided in the axis-angle format. The xyz coordinates are obtained by an exponential map, then the global rotation and translation are removed (local movement)."
   ],
   "metadata": {
    "collapsed": false
   }
  },
  {
   "cell_type": "code",
   "execution_count": null,
   "outputs": [],
   "source": [
    "import sys\n",
    "sys.path.append('/home/azhuavlev/PycharmProjects/MotionMixerConv')\n",
    "from h36m.datasets import dataset_h36m, dataset_h36m_ang\n",
    "%load_ext autoreload\n",
    "%autoreload 2\n",
    "\n",
    "dataset_xyz = dataset_h36m.H36M_Dataset(\n",
    "    data_dir='/home/azhuavlev/Desktop/Data/CUDA_lab/VisionLabSS23_3DPoses',\n",
    "    input_n=100,\n",
    "    output_n=100,\n",
    "    skip_rate=2,\n",
    "    split=0\n",
    ")"
   ],
   "metadata": {
    "collapsed": false,
    "ExecuteTime": {
     "start_time": "2023-08-18T11:41:11.673250Z",
     "end_time": "2023-08-18T11:41:36.712770Z"
    }
   }
  },
  {
   "cell_type": "markdown",
   "source": [
    "Example preprocessed batch, joint coordinates are im millimeters (mm):\n",
    "_Important note_: h3.6m uses OpenCV coordinate system, which has different coordinate axes orientation:\n",
    "Matplotlib: x right, y forward, z up\n",
    "Opencv: x right, y down, z forward\n",
    "To convert between them, we need to swap y and z axes, and negate y axis.\n",
    "This does *not* affect the *training*, but is relevant for visualization."
   ],
   "metadata": {
    "collapsed": false
   }
  },
  {
   "cell_type": "code",
   "execution_count": null,
   "outputs": [],
   "source": [
    "batch = dataset_xyz[0][:, dataset_xyz.dimensions_to_use]\n",
    "\n",
    "print(batch)\n",
    "print('batch.shape', batch.shape)"
   ],
   "metadata": {
    "collapsed": false,
    "ExecuteTime": {
     "start_time": "2023-08-18T11:51:37.280972Z",
     "end_time": "2023-08-18T11:51:37.314249Z"
    }
   }
  },
  {
   "cell_type": "code",
   "execution_count": null,
   "outputs": [],
   "source": [
    "import conv_mixer.visualization_helpers\n",
    "\n",
    "conv_mixer.visualization_helpers.visualize_batch(dataset_xyz[100])"
   ],
   "metadata": {
    "collapsed": false,
    "ExecuteTime": {
     "start_time": "2023-08-18T12:02:14.356851Z",
     "end_time": "2023-08-18T12:03:07.743245Z"
    }
   }
  },
  {
   "cell_type": "code",
   "execution_count": null,
   "outputs": [],
   "source": [
    "from IPython.display import Video\n",
    "\n",
    "Video(\"/home/azhuavlev/PycharmProjects/MotionMixerConv/conv_mixer/animation.mp4\")"
   ],
   "metadata": {
    "collapsed": false,
    "ExecuteTime": {
     "start_time": "2023-08-18T11:51:23.778253Z",
     "end_time": "2023-08-18T11:51:23.804601Z"
    }
   }
  },
  {
   "cell_type": "markdown",
   "source": [
    "Animation"
   ],
   "metadata": {
    "collapsed": false
   }
  },
  {
   "cell_type": "markdown",
   "source": [
    "## Axis-angle format"
   ],
   "metadata": {
    "collapsed": false
   }
  },
  {
   "cell_type": "markdown",
   "source": [
    "The second possible format is axis-angle. Again, the global rotation and translation are removed (local movement), but we use less joints than in the xyz format. Train/validation/test splits and the number of sequences are the same."
   ],
   "metadata": {
    "collapsed": false
   }
  },
  {
   "cell_type": "code",
   "execution_count": 56,
   "outputs": [
    {
     "name": "stdout",
     "output_type": "stream",
     "text": [
      "number of joints to use: 16\n",
      "number of joints to ignore: 17\n"
     ]
    }
   ],
   "source": [
    "dimensions_to_use_angle = np.array(\n",
    "            [6, 7, 8, 9, 12, 13, 14, 15, 21, 22, 23, 24, 27, 28, 29, 30, 36, 37, 38, 39, 40, 41, 42,\n",
    "             43, 44, 45, 46, 47, 51, 52, 53, 54, 55, 56, 57, 60, 61, 62, 75, 76, 77, 78, 79, 80, 81, 84, 85, 86])\n",
    "dimensions_to_ignore_angle = np.array(\n",
    "            [0, 1, 2, 3, 4, 5, 10, 11, 16, 17, 18, 19, 20, 25, 26, 31, 32, 33, 34, 35, 48, 49, 50, 58,\n",
    "              59, 63, 64, 65, 66, 67, 68, 69, 70, 71, 72, 73, 74, 82, 83, 87, 88, 89, 90, 91, 92, 93, 94, 95, 96, 97,\n",
    "              98])\n",
    "print('number of joints to use:', len(dimensions_to_use_angle) // 3)\n",
    "print('number of joints to ignore:', len(dimensions_to_ignore_angle) //3)"
   ],
   "metadata": {
    "collapsed": false,
    "ExecuteTime": {
     "start_time": "2023-08-18T12:42:33.241784Z",
     "end_time": "2023-08-18T12:42:33.327687Z"
    }
   }
  },
  {
   "cell_type": "code",
   "execution_count": null,
   "outputs": [],
   "source": [
    "dataset_angle = dataset_h36m_ang.H36M_Dataset_Angle(\n",
    "    data_dir='/home/azhuavlev/Desktop/Data/CUDA_lab/VisionLabSS23_3DPoses',\n",
    "    input_n=100,\n",
    "    output_n=100,\n",
    "    skip_rate=2,\n",
    "    split=0\n",
    ")"
   ],
   "metadata": {
    "collapsed": false,
    "ExecuteTime": {
     "start_time": "2023-08-18T11:56:08.452769Z",
     "end_time": "2023-08-18T11:56:32.300633Z"
    }
   }
  },
  {
   "cell_type": "code",
   "execution_count": 55,
   "outputs": [
    {
     "name": "stdout",
     "output_type": "stream",
     "text": [
      "[[ 0.3230213 -0.4831149 -0.0673216 ...  0.1473034 -0.1267874 -0.0072563]\n",
      " [ 0.3259532 -0.4838686 -0.0682784 ...  0.1349617 -0.0768555  0.0021032]\n",
      " [ 0.3294488 -0.4855806 -0.0695968 ...  0.1272881 -0.0470906  0.0103329]\n",
      " ...\n",
      " [ 0.5543316 -0.6687866  0.1618684 ...  0.1438099  0.2838625 -0.0268883]\n",
      " [ 0.5716785 -0.6677975  0.1498878 ...  0.1313288  0.2131509  0.0040503]\n",
      " [ 0.5799299 -0.7250111  0.1374053 ...  0.1095381  0.1248537  0.0352608]]\n",
      "batch_angle.shape (200, 48)\n"
     ]
    }
   ],
   "source": [
    "batch_angle = dataset_angle[0][:, dimensions_to_use_angle]\n",
    "\n",
    "print(batch_angle)\n",
    "print('batch_angle.shape', batch_angle.shape)"
   ],
   "metadata": {
    "collapsed": false,
    "ExecuteTime": {
     "start_time": "2023-08-18T12:42:16.275742Z",
     "end_time": "2023-08-18T12:42:16.786535Z"
    }
   }
  },
  {
   "cell_type": "markdown",
   "source": [
    "## Dataset captured in AIS lab"
   ],
   "metadata": {
    "collapsed": false
   }
  },
  {
   "cell_type": "markdown",
   "source": [
    "The dataset captures 27 keypoints, of which only 19 are used. The data is provided in both xyz and axis-angle formats."
   ],
   "metadata": {
    "collapsed": false
   }
  },
  {
   "cell_type": "code",
   "execution_count": null,
   "outputs": [],
   "source": [
    "joints_ais = [\n",
    "    \"Nose\", \"Neck\", \"RShoulder\", \"RElbow\", \"RWrist\", \"LShoulder\", \"LElbow\", \"LWrist\", \"MidHip\", \"RHip\", \"RKnee\",\n",
    "    \"RAnkle\", \"LHip\", \"LKnee\", \"LAnkle\", \"REye\", \"LEye\", \"REar\", \"LEar\"\n",
    "]\n",
    "joints_ais_unused = [\n",
    "    \"Head\", \"Belly\", \"LBToe\", \"LSToe\", \"LHeel\", \"RBToe\", \"RSToe\", \"RHeel\"\n",
    "]"
   ],
   "metadata": {
    "collapsed": false
   }
  },
  {
   "cell_type": "markdown",
   "source": [
    "Input data format is JSON:"
   ],
   "metadata": {
    "collapsed": false
   }
  },
  {
   "cell_type": "code",
   "execution_count": null,
   "outputs": [],
   "source": [
    "import json\n",
    "\n",
    "in_file_name = \"/home/azhuavlev/Desktop/Data/CUDA_lab/VisionLabSS23_3DPoses/2021-08-04-singlePerson_000.json\"\n",
    "with open(in_file_name, 'r') as f:\n",
    "    pose_data = json.load(f)\n",
    "pose_data[0]"
   ],
   "metadata": {
    "collapsed": false,
    "ExecuteTime": {
     "start_time": "2023-08-18T12:23:56.741736Z",
     "end_time": "2023-08-18T12:23:57.893728Z"
    }
   }
  },
  {
   "cell_type": "markdown",
   "source": [
    "Some joints have score of 0, they need to be ignored"
   ],
   "metadata": {
    "collapsed": false
   }
  },
  {
   "cell_type": "code",
   "execution_count": 57,
   "outputs": [
    {
     "data": {
      "text/plain": "{'score': 0.0, 'pos': [0.0, 0.0, 0.0], 'cov': [0.0, 0.0, 0.0, 0.0, 0.0, 0.0]}"
     },
     "execution_count": 57,
     "metadata": {},
     "output_type": "execute_result"
    }
   ],
   "source": [
    "pose_data[0]['person']['keypoints'][-1]"
   ],
   "metadata": {
    "collapsed": false,
    "ExecuteTime": {
     "start_time": "2023-08-18T12:42:56.561930Z",
     "end_time": "2023-08-18T12:42:56.644800Z"
    }
   }
  },
  {
   "cell_type": "code",
   "execution_count": 53,
   "outputs": [
    {
     "name": "stderr",
     "output_type": "stream",
     "text": [
      "/home/azhuavlev/PycharmProjects/MotionMixerConv/conv_mixer/visualize_ais_data.py:58: MatplotlibDeprecationWarning: Calling gca() with keyword arguments was deprecated in Matplotlib 3.4. Starting two minor releases later, gca() will take no keyword arguments. The gca() function should only be used to get the current axes, or if no axes exist, create new axes with default keyword arguments. To create a new axes with non-default arguments, use plt.axes() or plt.subplot().\n",
      "  ax = fig.gca(projection='3d')\n",
      "100%|███████████████████████████████████████████████████████████████████████████████████████████████████████████████████████████████████████████████████| 200/200 [00:28<00:00,  7.05it/s]\n"
     ]
    }
   ],
   "source": [
    "import conv_mixer.visualize_ais_data\n",
    "\n",
    "conv_mixer.visualize_ais_data.visualize_ais_data(\n",
    "    in_file_name,\n",
    "    frame_start=0,\n",
    "    frame_end=1000,\n",
    "    frame_step=5\n",
    ")"
   ],
   "metadata": {
    "collapsed": false,
    "ExecuteTime": {
     "start_time": "2023-08-18T12:39:09.732605Z",
     "end_time": "2023-08-18T12:40:41.877727Z"
    }
   }
  },
  {
   "cell_type": "code",
   "execution_count": 54,
   "outputs": [
    {
     "data": {
      "text/plain": "<IPython.core.display.Video object>",
      "text/html": "<video src=\"/home/azhuavlev/PycharmProjects/MotionMixerConv/conv_mixer/animation_ais.mp4\" controls  >\n      Your browser does not support the <code>video</code> element.\n    </video>"
     },
     "execution_count": 54,
     "metadata": {},
     "output_type": "execute_result"
    }
   ],
   "source": [
    "Video(\"/home/azhuavlev/PycharmProjects/MotionMixerConv/conv_mixer/animation_ais.mp4\")"
   ],
   "metadata": {
    "collapsed": false,
    "ExecuteTime": {
     "start_time": "2023-08-18T12:40:46.193169Z",
     "end_time": "2023-08-18T12:40:47.048624Z"
    }
   }
  },
  {
   "cell_type": "code",
   "execution_count": null,
   "outputs": [],
   "source": [],
   "metadata": {
    "collapsed": false
   }
  }
 ],
 "metadata": {
  "kernelspec": {
   "display_name": "Python 3",
   "language": "python",
   "name": "python3"
  },
  "language_info": {
   "codemirror_mode": {
    "name": "ipython",
    "version": 2
   },
   "file_extension": ".py",
   "mimetype": "text/x-python",
   "name": "python",
   "nbconvert_exporter": "python",
   "pygments_lexer": "ipython2",
   "version": "2.7.6"
  }
 },
 "nbformat": 4,
 "nbformat_minor": 0
}
